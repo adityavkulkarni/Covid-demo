{
 "cells": [
  {
   "cell_type": "code",
   "execution_count": 2,
   "metadata": {},
   "outputs": [
    {
     "data": {
      "text/html": [
       "        <script type=\"text/javascript\">\n",
       "        window.PlotlyConfig = {MathJaxConfig: 'local'};\n",
       "        if (window.MathJax) {MathJax.Hub.Config({SVG: {font: \"STIX-Web\"}});}\n",
       "        if (typeof require !== 'undefined') {\n",
       "        require.undef(\"plotly\");\n",
       "        requirejs.config({\n",
       "            paths: {\n",
       "                'plotly': ['https://cdn.plot.ly/plotly-latest.min']\n",
       "            }\n",
       "        });\n",
       "        require(['plotly'], function(Plotly) {\n",
       "            window._Plotly = Plotly;\n",
       "        });\n",
       "        }\n",
       "        </script>\n",
       "        "
      ]
     },
     "metadata": {},
     "output_type": "display_data"
    }
   ],
   "source": [
    "# import the necessary libraries\n",
    "import numpy as np \n",
    "import pandas as pd \n",
    "import os\n",
    "\n",
    "# Visualisation libraries\n",
    "import matplotlib.pyplot as plt\n",
    "%matplotlib inline\n",
    "import seaborn as sns\n",
    "sns.set()\n",
    "import pycountry\n",
    "import plotly.express as px\n",
    "from plotly.offline import init_notebook_mode, iplot \n",
    "import plotly.graph_objs as go\n",
    "import plotly.offline as py\n",
    "from plotly.offline import download_plotlyjs,init_notebook_mode,plot,iplot\n",
    "from pywaffle import Waffle\n",
    "import json,plotly\n",
    "py.init_notebook_mode(connected=True)\n",
    "import folium \n",
    "from folium import plugins\n",
    "plt.style.use(\"fivethirtyeight\")# for pretty graphs\n",
    "\n",
    "# Increase the default plot size and set the color scheme\n",
    "plt.rcParams['figure.figsize'] = 8, 5\n",
    "#plt.rcParams['image.cmap'] = 'viridis'\n",
    "\n",
    "for dirname, _, filenames in os.walk('/kaggle/input'):\n",
    "    for filename in filenames:\n",
    "        print(os.path.join(dirname, filename))\n",
    "\n",
    "# Disable warnings \n",
    "import warnings\n",
    "warnings.filterwarnings('ignore')\n",
    "\n",
    "from utils import *"
   ]
  },
  {
   "cell_type": "code",
   "execution_count": 6,
   "metadata": {},
   "outputs": [],
   "source": [
    "# Reading the datasets\n",
    "update_data()\n",
    "#get_data_from_kaggle()\n",
    "df= pd.read_csv('data/covidin.csv')\n",
    "df_india = df.copy()\n",
    "\n",
    "# Coordinates of India States and Uts\n",
    "India_coord = pd.read_csv('data/indian_coord.csv')\n",
    "\n",
    "#Day by day data of India, Korea and Italy\n",
    "dbd_India = pd.read_csv('data/perday.csv')\n",
    "#dbd_Italy = pd.read_excel('data/per_day_cases.xlsx',sheet_name=\"Italy\")\n",
    "#dbd_Korea = pd.read_excel('data/per_day_cases.xlsx',sheet_name=\"Korea\")\n",
    "\n"
   ]
  },
  {
   "cell_type": "code",
   "execution_count": 9,
   "metadata": {},
   "outputs": [
    {
     "name": "stdout",
     "output_type": "stream",
     "text": [
      "Total number of Confirmed COVID 2019 cases across India: 390\n",
      "Total number of Active COVID 2019 cases across India: 359\n",
      "Total number of Cured/Discharged/Migrated COVID 2019 cases across India: 24\n",
      "Total number of Deaths due to COVID 2019  across India: 7\n",
      "Total number of States/UTs affected: 23\n"
     ]
    }
   ],
   "source": [
    "#df.drop(['S. No.'],axis=1,inplace=True)\n",
    "df['Total cases'] = df['Total Confirmed cases (Indian National)'] + df['Total Confirmed cases ( Foreign National )'] \n",
    "df['Active cases'] = df['Total cases'] - (df['Cured/Discharged/Migrated'] + df['Deaths'])\n",
    "print(f'Total number of Confirmed COVID 2019 cases across India:', df['Total cases'].sum())\n",
    "print(f'Total number of Active COVID 2019 cases across India:', df['Active cases'].sum())\n",
    "print(f'Total number of Cured/Discharged/Migrated COVID 2019 cases across India:', df['Cured/Discharged/Migrated'].sum())\n",
    "print(f'Total number of Deaths due to COVID 2019  across India:', df['Deaths'].sum())\n",
    "print(f'Total number of States/UTs affected:', len(df['Name of State / UT']))"
   ]
  },
  {
   "cell_type": "code",
   "execution_count": 10,
   "metadata": {},
   "outputs": [
    {
     "data": {
      "text/html": [
       "<style  type=\"text/css\" >\n",
       "    #T_d9816aac_6ccb_11ea_a2b9_88787351996arow8_col6 {\n",
       "            background-color:  pink;\n",
       "        }    #T_d9816aac_6ccb_11ea_a2b9_88787351996arow10_col5 {\n",
       "            background-color:  pink;\n",
       "        }    #T_d9816aac_6ccb_11ea_a2b9_88787351996arow10_col6 {\n",
       "            background-color:  pink;\n",
       "        }    #T_d9816aac_6ccb_11ea_a2b9_88787351996arow10_col7 {\n",
       "            background-color:  pink;\n",
       "        }    #T_d9816aac_6ccb_11ea_a2b9_88787351996arow20_col4 {\n",
       "            background-color:  pink;\n",
       "        }</style><table id=\"T_d9816aac_6ccb_11ea_a2b9_88787351996a\" ><thead>    <tr>        <th class=\"blank level0\" ></th>        <th class=\"col_heading level0 col0\" >Unnamed: 0</th>        <th class=\"col_heading level0 col1\" >Name of State / UT</th>        <th class=\"col_heading level0 col2\" >Total Confirmed cases (Indian National)</th>        <th class=\"col_heading level0 col3\" >Total Confirmed cases ( Foreign National )</th>        <th class=\"col_heading level0 col4\" >Cured/Discharged/Migrated</th>        <th class=\"col_heading level0 col5\" >Deaths</th>        <th class=\"col_heading level0 col6\" >Total cases</th>        <th class=\"col_heading level0 col7\" >Active cases</th>    </tr></thead><tbody>\n",
       "                <tr>\n",
       "                        <th id=\"T_d9816aac_6ccb_11ea_a2b9_88787351996alevel0_row0\" class=\"row_heading level0 row0\" >0</th>\n",
       "                        <td id=\"T_d9816aac_6ccb_11ea_a2b9_88787351996arow0_col0\" class=\"data row0 col0\" >0</td>\n",
       "                        <td id=\"T_d9816aac_6ccb_11ea_a2b9_88787351996arow0_col1\" class=\"data row0 col1\" >Andhra Pradesh</td>\n",
       "                        <td id=\"T_d9816aac_6ccb_11ea_a2b9_88787351996arow0_col2\" class=\"data row0 col2\" >5</td>\n",
       "                        <td id=\"T_d9816aac_6ccb_11ea_a2b9_88787351996arow0_col3\" class=\"data row0 col3\" >0</td>\n",
       "                        <td id=\"T_d9816aac_6ccb_11ea_a2b9_88787351996arow0_col4\" class=\"data row0 col4\" >0</td>\n",
       "                        <td id=\"T_d9816aac_6ccb_11ea_a2b9_88787351996arow0_col5\" class=\"data row0 col5\" >0</td>\n",
       "                        <td id=\"T_d9816aac_6ccb_11ea_a2b9_88787351996arow0_col6\" class=\"data row0 col6\" >5</td>\n",
       "                        <td id=\"T_d9816aac_6ccb_11ea_a2b9_88787351996arow0_col7\" class=\"data row0 col7\" >5</td>\n",
       "            </tr>\n",
       "            <tr>\n",
       "                        <th id=\"T_d9816aac_6ccb_11ea_a2b9_88787351996alevel0_row1\" class=\"row_heading level0 row1\" >1</th>\n",
       "                        <td id=\"T_d9816aac_6ccb_11ea_a2b9_88787351996arow1_col0\" class=\"data row1 col0\" >1</td>\n",
       "                        <td id=\"T_d9816aac_6ccb_11ea_a2b9_88787351996arow1_col1\" class=\"data row1 col1\" >Bihar</td>\n",
       "                        <td id=\"T_d9816aac_6ccb_11ea_a2b9_88787351996arow1_col2\" class=\"data row1 col2\" >2</td>\n",
       "                        <td id=\"T_d9816aac_6ccb_11ea_a2b9_88787351996arow1_col3\" class=\"data row1 col3\" >0</td>\n",
       "                        <td id=\"T_d9816aac_6ccb_11ea_a2b9_88787351996arow1_col4\" class=\"data row1 col4\" >0</td>\n",
       "                        <td id=\"T_d9816aac_6ccb_11ea_a2b9_88787351996arow1_col5\" class=\"data row1 col5\" >1</td>\n",
       "                        <td id=\"T_d9816aac_6ccb_11ea_a2b9_88787351996arow1_col6\" class=\"data row1 col6\" >2</td>\n",
       "                        <td id=\"T_d9816aac_6ccb_11ea_a2b9_88787351996arow1_col7\" class=\"data row1 col7\" >1</td>\n",
       "            </tr>\n",
       "            <tr>\n",
       "                        <th id=\"T_d9816aac_6ccb_11ea_a2b9_88787351996alevel0_row2\" class=\"row_heading level0 row2\" >2</th>\n",
       "                        <td id=\"T_d9816aac_6ccb_11ea_a2b9_88787351996arow2_col0\" class=\"data row2 col0\" >2</td>\n",
       "                        <td id=\"T_d9816aac_6ccb_11ea_a2b9_88787351996arow2_col1\" class=\"data row2 col1\" >Chhattisgarh</td>\n",
       "                        <td id=\"T_d9816aac_6ccb_11ea_a2b9_88787351996arow2_col2\" class=\"data row2 col2\" >1</td>\n",
       "                        <td id=\"T_d9816aac_6ccb_11ea_a2b9_88787351996arow2_col3\" class=\"data row2 col3\" >0</td>\n",
       "                        <td id=\"T_d9816aac_6ccb_11ea_a2b9_88787351996arow2_col4\" class=\"data row2 col4\" >0</td>\n",
       "                        <td id=\"T_d9816aac_6ccb_11ea_a2b9_88787351996arow2_col5\" class=\"data row2 col5\" >0</td>\n",
       "                        <td id=\"T_d9816aac_6ccb_11ea_a2b9_88787351996arow2_col6\" class=\"data row2 col6\" >1</td>\n",
       "                        <td id=\"T_d9816aac_6ccb_11ea_a2b9_88787351996arow2_col7\" class=\"data row2 col7\" >1</td>\n",
       "            </tr>\n",
       "            <tr>\n",
       "                        <th id=\"T_d9816aac_6ccb_11ea_a2b9_88787351996alevel0_row3\" class=\"row_heading level0 row3\" >3</th>\n",
       "                        <td id=\"T_d9816aac_6ccb_11ea_a2b9_88787351996arow3_col0\" class=\"data row3 col0\" >3</td>\n",
       "                        <td id=\"T_d9816aac_6ccb_11ea_a2b9_88787351996arow3_col1\" class=\"data row3 col1\" >Delhi</td>\n",
       "                        <td id=\"T_d9816aac_6ccb_11ea_a2b9_88787351996arow3_col2\" class=\"data row3 col2\" >28</td>\n",
       "                        <td id=\"T_d9816aac_6ccb_11ea_a2b9_88787351996arow3_col3\" class=\"data row3 col3\" >1</td>\n",
       "                        <td id=\"T_d9816aac_6ccb_11ea_a2b9_88787351996arow3_col4\" class=\"data row3 col4\" >5</td>\n",
       "                        <td id=\"T_d9816aac_6ccb_11ea_a2b9_88787351996arow3_col5\" class=\"data row3 col5\" >1</td>\n",
       "                        <td id=\"T_d9816aac_6ccb_11ea_a2b9_88787351996arow3_col6\" class=\"data row3 col6\" >29</td>\n",
       "                        <td id=\"T_d9816aac_6ccb_11ea_a2b9_88787351996arow3_col7\" class=\"data row3 col7\" >23</td>\n",
       "            </tr>\n",
       "            <tr>\n",
       "                        <th id=\"T_d9816aac_6ccb_11ea_a2b9_88787351996alevel0_row4\" class=\"row_heading level0 row4\" >4</th>\n",
       "                        <td id=\"T_d9816aac_6ccb_11ea_a2b9_88787351996arow4_col0\" class=\"data row4 col0\" >4</td>\n",
       "                        <td id=\"T_d9816aac_6ccb_11ea_a2b9_88787351996arow4_col1\" class=\"data row4 col1\" >Gujarat</td>\n",
       "                        <td id=\"T_d9816aac_6ccb_11ea_a2b9_88787351996arow4_col2\" class=\"data row4 col2\" >18</td>\n",
       "                        <td id=\"T_d9816aac_6ccb_11ea_a2b9_88787351996arow4_col3\" class=\"data row4 col3\" >0</td>\n",
       "                        <td id=\"T_d9816aac_6ccb_11ea_a2b9_88787351996arow4_col4\" class=\"data row4 col4\" >0</td>\n",
       "                        <td id=\"T_d9816aac_6ccb_11ea_a2b9_88787351996arow4_col5\" class=\"data row4 col5\" >1</td>\n",
       "                        <td id=\"T_d9816aac_6ccb_11ea_a2b9_88787351996arow4_col6\" class=\"data row4 col6\" >18</td>\n",
       "                        <td id=\"T_d9816aac_6ccb_11ea_a2b9_88787351996arow4_col7\" class=\"data row4 col7\" >17</td>\n",
       "            </tr>\n",
       "            <tr>\n",
       "                        <th id=\"T_d9816aac_6ccb_11ea_a2b9_88787351996alevel0_row5\" class=\"row_heading level0 row5\" >5</th>\n",
       "                        <td id=\"T_d9816aac_6ccb_11ea_a2b9_88787351996arow5_col0\" class=\"data row5 col0\" >5</td>\n",
       "                        <td id=\"T_d9816aac_6ccb_11ea_a2b9_88787351996arow5_col1\" class=\"data row5 col1\" >Haryana</td>\n",
       "                        <td id=\"T_d9816aac_6ccb_11ea_a2b9_88787351996arow5_col2\" class=\"data row5 col2\" >7</td>\n",
       "                        <td id=\"T_d9816aac_6ccb_11ea_a2b9_88787351996arow5_col3\" class=\"data row5 col3\" >14</td>\n",
       "                        <td id=\"T_d9816aac_6ccb_11ea_a2b9_88787351996arow5_col4\" class=\"data row5 col4\" >0</td>\n",
       "                        <td id=\"T_d9816aac_6ccb_11ea_a2b9_88787351996arow5_col5\" class=\"data row5 col5\" >0</td>\n",
       "                        <td id=\"T_d9816aac_6ccb_11ea_a2b9_88787351996arow5_col6\" class=\"data row5 col6\" >21</td>\n",
       "                        <td id=\"T_d9816aac_6ccb_11ea_a2b9_88787351996arow5_col7\" class=\"data row5 col7\" >21</td>\n",
       "            </tr>\n",
       "            <tr>\n",
       "                        <th id=\"T_d9816aac_6ccb_11ea_a2b9_88787351996alevel0_row6\" class=\"row_heading level0 row6\" >6</th>\n",
       "                        <td id=\"T_d9816aac_6ccb_11ea_a2b9_88787351996arow6_col0\" class=\"data row6 col0\" >6</td>\n",
       "                        <td id=\"T_d9816aac_6ccb_11ea_a2b9_88787351996arow6_col1\" class=\"data row6 col1\" >Himachal Pradesh</td>\n",
       "                        <td id=\"T_d9816aac_6ccb_11ea_a2b9_88787351996arow6_col2\" class=\"data row6 col2\" >2</td>\n",
       "                        <td id=\"T_d9816aac_6ccb_11ea_a2b9_88787351996arow6_col3\" class=\"data row6 col3\" >0</td>\n",
       "                        <td id=\"T_d9816aac_6ccb_11ea_a2b9_88787351996arow6_col4\" class=\"data row6 col4\" >0</td>\n",
       "                        <td id=\"T_d9816aac_6ccb_11ea_a2b9_88787351996arow6_col5\" class=\"data row6 col5\" >0</td>\n",
       "                        <td id=\"T_d9816aac_6ccb_11ea_a2b9_88787351996arow6_col6\" class=\"data row6 col6\" >2</td>\n",
       "                        <td id=\"T_d9816aac_6ccb_11ea_a2b9_88787351996arow6_col7\" class=\"data row6 col7\" >2</td>\n",
       "            </tr>\n",
       "            <tr>\n",
       "                        <th id=\"T_d9816aac_6ccb_11ea_a2b9_88787351996alevel0_row7\" class=\"row_heading level0 row7\" >7</th>\n",
       "                        <td id=\"T_d9816aac_6ccb_11ea_a2b9_88787351996arow7_col0\" class=\"data row7 col0\" >7</td>\n",
       "                        <td id=\"T_d9816aac_6ccb_11ea_a2b9_88787351996arow7_col1\" class=\"data row7 col1\" >Karnataka</td>\n",
       "                        <td id=\"T_d9816aac_6ccb_11ea_a2b9_88787351996arow7_col2\" class=\"data row7 col2\" >26</td>\n",
       "                        <td id=\"T_d9816aac_6ccb_11ea_a2b9_88787351996arow7_col3\" class=\"data row7 col3\" >0</td>\n",
       "                        <td id=\"T_d9816aac_6ccb_11ea_a2b9_88787351996arow7_col4\" class=\"data row7 col4\" >2</td>\n",
       "                        <td id=\"T_d9816aac_6ccb_11ea_a2b9_88787351996arow7_col5\" class=\"data row7 col5\" >1</td>\n",
       "                        <td id=\"T_d9816aac_6ccb_11ea_a2b9_88787351996arow7_col6\" class=\"data row7 col6\" >26</td>\n",
       "                        <td id=\"T_d9816aac_6ccb_11ea_a2b9_88787351996arow7_col7\" class=\"data row7 col7\" >23</td>\n",
       "            </tr>\n",
       "            <tr>\n",
       "                        <th id=\"T_d9816aac_6ccb_11ea_a2b9_88787351996alevel0_row8\" class=\"row_heading level0 row8\" >8</th>\n",
       "                        <td id=\"T_d9816aac_6ccb_11ea_a2b9_88787351996arow8_col0\" class=\"data row8 col0\" >8</td>\n",
       "                        <td id=\"T_d9816aac_6ccb_11ea_a2b9_88787351996arow8_col1\" class=\"data row8 col1\" >Kerala</td>\n",
       "                        <td id=\"T_d9816aac_6ccb_11ea_a2b9_88787351996arow8_col2\" class=\"data row8 col2\" >60</td>\n",
       "                        <td id=\"T_d9816aac_6ccb_11ea_a2b9_88787351996arow8_col3\" class=\"data row8 col3\" >7</td>\n",
       "                        <td id=\"T_d9816aac_6ccb_11ea_a2b9_88787351996arow8_col4\" class=\"data row8 col4\" >3</td>\n",
       "                        <td id=\"T_d9816aac_6ccb_11ea_a2b9_88787351996arow8_col5\" class=\"data row8 col5\" >0</td>\n",
       "                        <td id=\"T_d9816aac_6ccb_11ea_a2b9_88787351996arow8_col6\" class=\"data row8 col6\" >67</td>\n",
       "                        <td id=\"T_d9816aac_6ccb_11ea_a2b9_88787351996arow8_col7\" class=\"data row8 col7\" >64</td>\n",
       "            </tr>\n",
       "            <tr>\n",
       "                        <th id=\"T_d9816aac_6ccb_11ea_a2b9_88787351996alevel0_row9\" class=\"row_heading level0 row9\" >9</th>\n",
       "                        <td id=\"T_d9816aac_6ccb_11ea_a2b9_88787351996arow9_col0\" class=\"data row9 col0\" >9</td>\n",
       "                        <td id=\"T_d9816aac_6ccb_11ea_a2b9_88787351996arow9_col1\" class=\"data row9 col1\" >Madhya Pradesh</td>\n",
       "                        <td id=\"T_d9816aac_6ccb_11ea_a2b9_88787351996arow9_col2\" class=\"data row9 col2\" >6</td>\n",
       "                        <td id=\"T_d9816aac_6ccb_11ea_a2b9_88787351996arow9_col3\" class=\"data row9 col3\" >0</td>\n",
       "                        <td id=\"T_d9816aac_6ccb_11ea_a2b9_88787351996arow9_col4\" class=\"data row9 col4\" >0</td>\n",
       "                        <td id=\"T_d9816aac_6ccb_11ea_a2b9_88787351996arow9_col5\" class=\"data row9 col5\" >0</td>\n",
       "                        <td id=\"T_d9816aac_6ccb_11ea_a2b9_88787351996arow9_col6\" class=\"data row9 col6\" >6</td>\n",
       "                        <td id=\"T_d9816aac_6ccb_11ea_a2b9_88787351996arow9_col7\" class=\"data row9 col7\" >6</td>\n",
       "            </tr>\n",
       "            <tr>\n",
       "                        <th id=\"T_d9816aac_6ccb_11ea_a2b9_88787351996alevel0_row10\" class=\"row_heading level0 row10\" >10</th>\n",
       "                        <td id=\"T_d9816aac_6ccb_11ea_a2b9_88787351996arow10_col0\" class=\"data row10 col0\" >10</td>\n",
       "                        <td id=\"T_d9816aac_6ccb_11ea_a2b9_88787351996arow10_col1\" class=\"data row10 col1\" >Maharashtra</td>\n",
       "                        <td id=\"T_d9816aac_6ccb_11ea_a2b9_88787351996arow10_col2\" class=\"data row10 col2\" >64</td>\n",
       "                        <td id=\"T_d9816aac_6ccb_11ea_a2b9_88787351996arow10_col3\" class=\"data row10 col3\" >3</td>\n",
       "                        <td id=\"T_d9816aac_6ccb_11ea_a2b9_88787351996arow10_col4\" class=\"data row10 col4\" >0</td>\n",
       "                        <td id=\"T_d9816aac_6ccb_11ea_a2b9_88787351996arow10_col5\" class=\"data row10 col5\" >2</td>\n",
       "                        <td id=\"T_d9816aac_6ccb_11ea_a2b9_88787351996arow10_col6\" class=\"data row10 col6\" >67</td>\n",
       "                        <td id=\"T_d9816aac_6ccb_11ea_a2b9_88787351996arow10_col7\" class=\"data row10 col7\" >65</td>\n",
       "            </tr>\n",
       "            <tr>\n",
       "                        <th id=\"T_d9816aac_6ccb_11ea_a2b9_88787351996alevel0_row11\" class=\"row_heading level0 row11\" >11</th>\n",
       "                        <td id=\"T_d9816aac_6ccb_11ea_a2b9_88787351996arow11_col0\" class=\"data row11 col0\" >11</td>\n",
       "                        <td id=\"T_d9816aac_6ccb_11ea_a2b9_88787351996arow11_col1\" class=\"data row11 col1\" >Odisha</td>\n",
       "                        <td id=\"T_d9816aac_6ccb_11ea_a2b9_88787351996arow11_col2\" class=\"data row11 col2\" >2</td>\n",
       "                        <td id=\"T_d9816aac_6ccb_11ea_a2b9_88787351996arow11_col3\" class=\"data row11 col3\" >0</td>\n",
       "                        <td id=\"T_d9816aac_6ccb_11ea_a2b9_88787351996arow11_col4\" class=\"data row11 col4\" >0</td>\n",
       "                        <td id=\"T_d9816aac_6ccb_11ea_a2b9_88787351996arow11_col5\" class=\"data row11 col5\" >0</td>\n",
       "                        <td id=\"T_d9816aac_6ccb_11ea_a2b9_88787351996arow11_col6\" class=\"data row11 col6\" >2</td>\n",
       "                        <td id=\"T_d9816aac_6ccb_11ea_a2b9_88787351996arow11_col7\" class=\"data row11 col7\" >2</td>\n",
       "            </tr>\n",
       "            <tr>\n",
       "                        <th id=\"T_d9816aac_6ccb_11ea_a2b9_88787351996alevel0_row12\" class=\"row_heading level0 row12\" >12</th>\n",
       "                        <td id=\"T_d9816aac_6ccb_11ea_a2b9_88787351996arow12_col0\" class=\"data row12 col0\" >12</td>\n",
       "                        <td id=\"T_d9816aac_6ccb_11ea_a2b9_88787351996arow12_col1\" class=\"data row12 col1\" >Puducherry</td>\n",
       "                        <td id=\"T_d9816aac_6ccb_11ea_a2b9_88787351996arow12_col2\" class=\"data row12 col2\" >1</td>\n",
       "                        <td id=\"T_d9816aac_6ccb_11ea_a2b9_88787351996arow12_col3\" class=\"data row12 col3\" >0</td>\n",
       "                        <td id=\"T_d9816aac_6ccb_11ea_a2b9_88787351996arow12_col4\" class=\"data row12 col4\" >0</td>\n",
       "                        <td id=\"T_d9816aac_6ccb_11ea_a2b9_88787351996arow12_col5\" class=\"data row12 col5\" >0</td>\n",
       "                        <td id=\"T_d9816aac_6ccb_11ea_a2b9_88787351996arow12_col6\" class=\"data row12 col6\" >1</td>\n",
       "                        <td id=\"T_d9816aac_6ccb_11ea_a2b9_88787351996arow12_col7\" class=\"data row12 col7\" >1</td>\n",
       "            </tr>\n",
       "            <tr>\n",
       "                        <th id=\"T_d9816aac_6ccb_11ea_a2b9_88787351996alevel0_row13\" class=\"row_heading level0 row13\" >13</th>\n",
       "                        <td id=\"T_d9816aac_6ccb_11ea_a2b9_88787351996arow13_col0\" class=\"data row13 col0\" >13</td>\n",
       "                        <td id=\"T_d9816aac_6ccb_11ea_a2b9_88787351996arow13_col1\" class=\"data row13 col1\" >Punjab</td>\n",
       "                        <td id=\"T_d9816aac_6ccb_11ea_a2b9_88787351996arow13_col2\" class=\"data row13 col2\" >21</td>\n",
       "                        <td id=\"T_d9816aac_6ccb_11ea_a2b9_88787351996arow13_col3\" class=\"data row13 col3\" >0</td>\n",
       "                        <td id=\"T_d9816aac_6ccb_11ea_a2b9_88787351996arow13_col4\" class=\"data row13 col4\" >0</td>\n",
       "                        <td id=\"T_d9816aac_6ccb_11ea_a2b9_88787351996arow13_col5\" class=\"data row13 col5\" >1</td>\n",
       "                        <td id=\"T_d9816aac_6ccb_11ea_a2b9_88787351996arow13_col6\" class=\"data row13 col6\" >21</td>\n",
       "                        <td id=\"T_d9816aac_6ccb_11ea_a2b9_88787351996arow13_col7\" class=\"data row13 col7\" >20</td>\n",
       "            </tr>\n",
       "            <tr>\n",
       "                        <th id=\"T_d9816aac_6ccb_11ea_a2b9_88787351996alevel0_row14\" class=\"row_heading level0 row14\" >14</th>\n",
       "                        <td id=\"T_d9816aac_6ccb_11ea_a2b9_88787351996arow14_col0\" class=\"data row14 col0\" >14</td>\n",
       "                        <td id=\"T_d9816aac_6ccb_11ea_a2b9_88787351996arow14_col1\" class=\"data row14 col1\" >Rajasthan</td>\n",
       "                        <td id=\"T_d9816aac_6ccb_11ea_a2b9_88787351996arow14_col2\" class=\"data row14 col2\" >25</td>\n",
       "                        <td id=\"T_d9816aac_6ccb_11ea_a2b9_88787351996arow14_col3\" class=\"data row14 col3\" >2</td>\n",
       "                        <td id=\"T_d9816aac_6ccb_11ea_a2b9_88787351996arow14_col4\" class=\"data row14 col4\" >3</td>\n",
       "                        <td id=\"T_d9816aac_6ccb_11ea_a2b9_88787351996arow14_col5\" class=\"data row14 col5\" >0</td>\n",
       "                        <td id=\"T_d9816aac_6ccb_11ea_a2b9_88787351996arow14_col6\" class=\"data row14 col6\" >27</td>\n",
       "                        <td id=\"T_d9816aac_6ccb_11ea_a2b9_88787351996arow14_col7\" class=\"data row14 col7\" >24</td>\n",
       "            </tr>\n",
       "            <tr>\n",
       "                        <th id=\"T_d9816aac_6ccb_11ea_a2b9_88787351996alevel0_row15\" class=\"row_heading level0 row15\" >15</th>\n",
       "                        <td id=\"T_d9816aac_6ccb_11ea_a2b9_88787351996arow15_col0\" class=\"data row15 col0\" >15</td>\n",
       "                        <td id=\"T_d9816aac_6ccb_11ea_a2b9_88787351996arow15_col1\" class=\"data row15 col1\" >Tamil Nadu</td>\n",
       "                        <td id=\"T_d9816aac_6ccb_11ea_a2b9_88787351996arow15_col2\" class=\"data row15 col2\" >7</td>\n",
       "                        <td id=\"T_d9816aac_6ccb_11ea_a2b9_88787351996arow15_col3\" class=\"data row15 col3\" >2</td>\n",
       "                        <td id=\"T_d9816aac_6ccb_11ea_a2b9_88787351996arow15_col4\" class=\"data row15 col4\" >1</td>\n",
       "                        <td id=\"T_d9816aac_6ccb_11ea_a2b9_88787351996arow15_col5\" class=\"data row15 col5\" >0</td>\n",
       "                        <td id=\"T_d9816aac_6ccb_11ea_a2b9_88787351996arow15_col6\" class=\"data row15 col6\" >9</td>\n",
       "                        <td id=\"T_d9816aac_6ccb_11ea_a2b9_88787351996arow15_col7\" class=\"data row15 col7\" >8</td>\n",
       "            </tr>\n",
       "            <tr>\n",
       "                        <th id=\"T_d9816aac_6ccb_11ea_a2b9_88787351996alevel0_row16\" class=\"row_heading level0 row16\" >16</th>\n",
       "                        <td id=\"T_d9816aac_6ccb_11ea_a2b9_88787351996arow16_col0\" class=\"data row16 col0\" >16</td>\n",
       "                        <td id=\"T_d9816aac_6ccb_11ea_a2b9_88787351996arow16_col1\" class=\"data row16 col1\" >Telengana</td>\n",
       "                        <td id=\"T_d9816aac_6ccb_11ea_a2b9_88787351996arow16_col2\" class=\"data row16 col2\" >15</td>\n",
       "                        <td id=\"T_d9816aac_6ccb_11ea_a2b9_88787351996arow16_col3\" class=\"data row16 col3\" >11</td>\n",
       "                        <td id=\"T_d9816aac_6ccb_11ea_a2b9_88787351996arow16_col4\" class=\"data row16 col4\" >1</td>\n",
       "                        <td id=\"T_d9816aac_6ccb_11ea_a2b9_88787351996arow16_col5\" class=\"data row16 col5\" >0</td>\n",
       "                        <td id=\"T_d9816aac_6ccb_11ea_a2b9_88787351996arow16_col6\" class=\"data row16 col6\" >26</td>\n",
       "                        <td id=\"T_d9816aac_6ccb_11ea_a2b9_88787351996arow16_col7\" class=\"data row16 col7\" >25</td>\n",
       "            </tr>\n",
       "            <tr>\n",
       "                        <th id=\"T_d9816aac_6ccb_11ea_a2b9_88787351996alevel0_row17\" class=\"row_heading level0 row17\" >17</th>\n",
       "                        <td id=\"T_d9816aac_6ccb_11ea_a2b9_88787351996arow17_col0\" class=\"data row17 col0\" >17</td>\n",
       "                        <td id=\"T_d9816aac_6ccb_11ea_a2b9_88787351996arow17_col1\" class=\"data row17 col1\" >Chandigarh</td>\n",
       "                        <td id=\"T_d9816aac_6ccb_11ea_a2b9_88787351996arow17_col2\" class=\"data row17 col2\" >5</td>\n",
       "                        <td id=\"T_d9816aac_6ccb_11ea_a2b9_88787351996arow17_col3\" class=\"data row17 col3\" >0</td>\n",
       "                        <td id=\"T_d9816aac_6ccb_11ea_a2b9_88787351996arow17_col4\" class=\"data row17 col4\" >0</td>\n",
       "                        <td id=\"T_d9816aac_6ccb_11ea_a2b9_88787351996arow17_col5\" class=\"data row17 col5\" >0</td>\n",
       "                        <td id=\"T_d9816aac_6ccb_11ea_a2b9_88787351996arow17_col6\" class=\"data row17 col6\" >5</td>\n",
       "                        <td id=\"T_d9816aac_6ccb_11ea_a2b9_88787351996arow17_col7\" class=\"data row17 col7\" >5</td>\n",
       "            </tr>\n",
       "            <tr>\n",
       "                        <th id=\"T_d9816aac_6ccb_11ea_a2b9_88787351996alevel0_row18\" class=\"row_heading level0 row18\" >18</th>\n",
       "                        <td id=\"T_d9816aac_6ccb_11ea_a2b9_88787351996arow18_col0\" class=\"data row18 col0\" >18</td>\n",
       "                        <td id=\"T_d9816aac_6ccb_11ea_a2b9_88787351996arow18_col1\" class=\"data row18 col1\" >Jammu and Kashmir</td>\n",
       "                        <td id=\"T_d9816aac_6ccb_11ea_a2b9_88787351996arow18_col2\" class=\"data row18 col2\" >4</td>\n",
       "                        <td id=\"T_d9816aac_6ccb_11ea_a2b9_88787351996arow18_col3\" class=\"data row18 col3\" >0</td>\n",
       "                        <td id=\"T_d9816aac_6ccb_11ea_a2b9_88787351996arow18_col4\" class=\"data row18 col4\" >0</td>\n",
       "                        <td id=\"T_d9816aac_6ccb_11ea_a2b9_88787351996arow18_col5\" class=\"data row18 col5\" >0</td>\n",
       "                        <td id=\"T_d9816aac_6ccb_11ea_a2b9_88787351996arow18_col6\" class=\"data row18 col6\" >4</td>\n",
       "                        <td id=\"T_d9816aac_6ccb_11ea_a2b9_88787351996arow18_col7\" class=\"data row18 col7\" >4</td>\n",
       "            </tr>\n",
       "            <tr>\n",
       "                        <th id=\"T_d9816aac_6ccb_11ea_a2b9_88787351996alevel0_row19\" class=\"row_heading level0 row19\" >19</th>\n",
       "                        <td id=\"T_d9816aac_6ccb_11ea_a2b9_88787351996arow19_col0\" class=\"data row19 col0\" >19</td>\n",
       "                        <td id=\"T_d9816aac_6ccb_11ea_a2b9_88787351996arow19_col1\" class=\"data row19 col1\" >Ladakh</td>\n",
       "                        <td id=\"T_d9816aac_6ccb_11ea_a2b9_88787351996arow19_col2\" class=\"data row19 col2\" >13</td>\n",
       "                        <td id=\"T_d9816aac_6ccb_11ea_a2b9_88787351996arow19_col3\" class=\"data row19 col3\" >0</td>\n",
       "                        <td id=\"T_d9816aac_6ccb_11ea_a2b9_88787351996arow19_col4\" class=\"data row19 col4\" >0</td>\n",
       "                        <td id=\"T_d9816aac_6ccb_11ea_a2b9_88787351996arow19_col5\" class=\"data row19 col5\" >0</td>\n",
       "                        <td id=\"T_d9816aac_6ccb_11ea_a2b9_88787351996arow19_col6\" class=\"data row19 col6\" >13</td>\n",
       "                        <td id=\"T_d9816aac_6ccb_11ea_a2b9_88787351996arow19_col7\" class=\"data row19 col7\" >13</td>\n",
       "            </tr>\n",
       "            <tr>\n",
       "                        <th id=\"T_d9816aac_6ccb_11ea_a2b9_88787351996alevel0_row20\" class=\"row_heading level0 row20\" >20</th>\n",
       "                        <td id=\"T_d9816aac_6ccb_11ea_a2b9_88787351996arow20_col0\" class=\"data row20 col0\" >20</td>\n",
       "                        <td id=\"T_d9816aac_6ccb_11ea_a2b9_88787351996arow20_col1\" class=\"data row20 col1\" >Uttar Pradesh</td>\n",
       "                        <td id=\"T_d9816aac_6ccb_11ea_a2b9_88787351996arow20_col2\" class=\"data row20 col2\" >27</td>\n",
       "                        <td id=\"T_d9816aac_6ccb_11ea_a2b9_88787351996arow20_col3\" class=\"data row20 col3\" >1</td>\n",
       "                        <td id=\"T_d9816aac_6ccb_11ea_a2b9_88787351996arow20_col4\" class=\"data row20 col4\" >9</td>\n",
       "                        <td id=\"T_d9816aac_6ccb_11ea_a2b9_88787351996arow20_col5\" class=\"data row20 col5\" >0</td>\n",
       "                        <td id=\"T_d9816aac_6ccb_11ea_a2b9_88787351996arow20_col6\" class=\"data row20 col6\" >28</td>\n",
       "                        <td id=\"T_d9816aac_6ccb_11ea_a2b9_88787351996arow20_col7\" class=\"data row20 col7\" >19</td>\n",
       "            </tr>\n",
       "            <tr>\n",
       "                        <th id=\"T_d9816aac_6ccb_11ea_a2b9_88787351996alevel0_row21\" class=\"row_heading level0 row21\" >21</th>\n",
       "                        <td id=\"T_d9816aac_6ccb_11ea_a2b9_88787351996arow21_col0\" class=\"data row21 col0\" >21</td>\n",
       "                        <td id=\"T_d9816aac_6ccb_11ea_a2b9_88787351996arow21_col1\" class=\"data row21 col1\" >Uttarakhand</td>\n",
       "                        <td id=\"T_d9816aac_6ccb_11ea_a2b9_88787351996arow21_col2\" class=\"data row21 col2\" >3</td>\n",
       "                        <td id=\"T_d9816aac_6ccb_11ea_a2b9_88787351996arow21_col3\" class=\"data row21 col3\" >0</td>\n",
       "                        <td id=\"T_d9816aac_6ccb_11ea_a2b9_88787351996arow21_col4\" class=\"data row21 col4\" >0</td>\n",
       "                        <td id=\"T_d9816aac_6ccb_11ea_a2b9_88787351996arow21_col5\" class=\"data row21 col5\" >0</td>\n",
       "                        <td id=\"T_d9816aac_6ccb_11ea_a2b9_88787351996arow21_col6\" class=\"data row21 col6\" >3</td>\n",
       "                        <td id=\"T_d9816aac_6ccb_11ea_a2b9_88787351996arow21_col7\" class=\"data row21 col7\" >3</td>\n",
       "            </tr>\n",
       "            <tr>\n",
       "                        <th id=\"T_d9816aac_6ccb_11ea_a2b9_88787351996alevel0_row22\" class=\"row_heading level0 row22\" >22</th>\n",
       "                        <td id=\"T_d9816aac_6ccb_11ea_a2b9_88787351996arow22_col0\" class=\"data row22 col0\" >22</td>\n",
       "                        <td id=\"T_d9816aac_6ccb_11ea_a2b9_88787351996arow22_col1\" class=\"data row22 col1\" >West Bengal</td>\n",
       "                        <td id=\"T_d9816aac_6ccb_11ea_a2b9_88787351996arow22_col2\" class=\"data row22 col2\" >7</td>\n",
       "                        <td id=\"T_d9816aac_6ccb_11ea_a2b9_88787351996arow22_col3\" class=\"data row22 col3\" >0</td>\n",
       "                        <td id=\"T_d9816aac_6ccb_11ea_a2b9_88787351996arow22_col4\" class=\"data row22 col4\" >0</td>\n",
       "                        <td id=\"T_d9816aac_6ccb_11ea_a2b9_88787351996arow22_col5\" class=\"data row22 col5\" >0</td>\n",
       "                        <td id=\"T_d9816aac_6ccb_11ea_a2b9_88787351996arow22_col6\" class=\"data row22 col6\" >7</td>\n",
       "                        <td id=\"T_d9816aac_6ccb_11ea_a2b9_88787351996arow22_col7\" class=\"data row22 col7\" >7</td>\n",
       "            </tr>\n",
       "    </tbody></table>"
      ],
      "text/plain": [
       "<pandas.io.formats.style.Styler at 0x7f50380c7278>"
      ]
     },
     "execution_count": 10,
     "metadata": {},
     "output_type": "execute_result"
    }
   ],
   "source": [
    "\n",
    "#https://www.kaggle.com/nxrprime/styling-data-frames-covid-19-vs-conferences\n",
    "def highlight_max(s):\n",
    "    is_max = s == s.max()\n",
    "    return ['background-color: pink' if v else '' for v in is_max]\n",
    "\n",
    "\n",
    "\n",
    "#df.style.apply(highlight_max,subset=['Total Confirmed cases (Indian National)', 'Total Confirmed cases ( Foreign National )'])\n",
    "df.style.apply(highlight_max,subset=['Cured/Discharged/Migrated', 'Deaths','Total cases','Active cases'])\n",
    "\n"
   ]
  },
  {
   "cell_type": "code",
   "execution_count": 11,
   "metadata": {},
   "outputs": [
    {
     "data": {
      "text/html": [
       "<style  type=\"text/css\" >\n",
       "    #T_df67306e_6ccb_11ea_a2b9_88787351996arow0_col0 {\n",
       "            background-color:  #67000d;\n",
       "            color:  #f1f1f1;\n",
       "        }    #T_df67306e_6ccb_11ea_a2b9_88787351996arow1_col0 {\n",
       "            background-color:  #6d010e;\n",
       "            color:  #f1f1f1;\n",
       "        }    #T_df67306e_6ccb_11ea_a2b9_88787351996arow2_col0 {\n",
       "            background-color:  #fc9272;\n",
       "            color:  #000000;\n",
       "        }    #T_df67306e_6ccb_11ea_a2b9_88787351996arow3_col0 {\n",
       "            background-color:  #fc9777;\n",
       "            color:  #000000;\n",
       "        }    #T_df67306e_6ccb_11ea_a2b9_88787351996arow4_col0 {\n",
       "            background-color:  #fc9c7d;\n",
       "            color:  #000000;\n",
       "        }    #T_df67306e_6ccb_11ea_a2b9_88787351996arow5_col0 {\n",
       "            background-color:  #fc9c7d;\n",
       "            color:  #000000;\n",
       "        }    #T_df67306e_6ccb_11ea_a2b9_88787351996arow6_col0 {\n",
       "            background-color:  #fca689;\n",
       "            color:  #000000;\n",
       "        }    #T_df67306e_6ccb_11ea_a2b9_88787351996arow7_col0 {\n",
       "            background-color:  #fcab8f;\n",
       "            color:  #000000;\n",
       "        }    #T_df67306e_6ccb_11ea_a2b9_88787351996arow8_col0 {\n",
       "            background-color:  #fcb095;\n",
       "            color:  #000000;\n",
       "        }    #T_df67306e_6ccb_11ea_a2b9_88787351996arow9_col0 {\n",
       "            background-color:  #fcbba1;\n",
       "            color:  #000000;\n",
       "        }    #T_df67306e_6ccb_11ea_a2b9_88787351996arow10_col0 {\n",
       "            background-color:  #fdcdb9;\n",
       "            color:  #000000;\n",
       "        }    #T_df67306e_6ccb_11ea_a2b9_88787351996arow11_col0 {\n",
       "            background-color:  #fee3d6;\n",
       "            color:  #000000;\n",
       "        }    #T_df67306e_6ccb_11ea_a2b9_88787351996arow12_col0 {\n",
       "            background-color:  #fee5d9;\n",
       "            color:  #000000;\n",
       "        }    #T_df67306e_6ccb_11ea_a2b9_88787351996arow13_col0 {\n",
       "            background-color:  #fee8dd;\n",
       "            color:  #000000;\n",
       "        }    #T_df67306e_6ccb_11ea_a2b9_88787351996arow14_col0 {\n",
       "            background-color:  #feeae1;\n",
       "            color:  #000000;\n",
       "        }    #T_df67306e_6ccb_11ea_a2b9_88787351996arow15_col0 {\n",
       "            background-color:  #feeae1;\n",
       "            color:  #000000;\n",
       "        }    #T_df67306e_6ccb_11ea_a2b9_88787351996arow16_col0 {\n",
       "            background-color:  #ffede5;\n",
       "            color:  #000000;\n",
       "        }    #T_df67306e_6ccb_11ea_a2b9_88787351996arow17_col0 {\n",
       "            background-color:  #fff0e8;\n",
       "            color:  #000000;\n",
       "        }    #T_df67306e_6ccb_11ea_a2b9_88787351996arow18_col0 {\n",
       "            background-color:  #fff2ec;\n",
       "            color:  #000000;\n",
       "        }    #T_df67306e_6ccb_11ea_a2b9_88787351996arow19_col0 {\n",
       "            background-color:  #fff2ec;\n",
       "            color:  #000000;\n",
       "        }    #T_df67306e_6ccb_11ea_a2b9_88787351996arow20_col0 {\n",
       "            background-color:  #fff5f0;\n",
       "            color:  #000000;\n",
       "        }    #T_df67306e_6ccb_11ea_a2b9_88787351996arow21_col0 {\n",
       "            background-color:  #fff5f0;\n",
       "            color:  #000000;\n",
       "        }    #T_df67306e_6ccb_11ea_a2b9_88787351996arow22_col0 {\n",
       "            background-color:  #fff5f0;\n",
       "            color:  #000000;\n",
       "        }</style><table id=\"T_df67306e_6ccb_11ea_a2b9_88787351996a\" ><thead>    <tr>        <th class=\"blank level0\" ></th>        <th class=\"col_heading level0 col0\" >Active cases</th>    </tr></thead><tbody>\n",
       "                <tr>\n",
       "                        <th id=\"T_df67306e_6ccb_11ea_a2b9_88787351996alevel0_row0\" class=\"row_heading level0 row0\" >Maharashtra</th>\n",
       "                        <td id=\"T_df67306e_6ccb_11ea_a2b9_88787351996arow0_col0\" class=\"data row0 col0\" >65</td>\n",
       "            </tr>\n",
       "            <tr>\n",
       "                        <th id=\"T_df67306e_6ccb_11ea_a2b9_88787351996alevel0_row1\" class=\"row_heading level0 row1\" >Kerala</th>\n",
       "                        <td id=\"T_df67306e_6ccb_11ea_a2b9_88787351996arow1_col0\" class=\"data row1 col0\" >64</td>\n",
       "            </tr>\n",
       "            <tr>\n",
       "                        <th id=\"T_df67306e_6ccb_11ea_a2b9_88787351996alevel0_row2\" class=\"row_heading level0 row2\" >Telengana</th>\n",
       "                        <td id=\"T_df67306e_6ccb_11ea_a2b9_88787351996arow2_col0\" class=\"data row2 col0\" >25</td>\n",
       "            </tr>\n",
       "            <tr>\n",
       "                        <th id=\"T_df67306e_6ccb_11ea_a2b9_88787351996alevel0_row3\" class=\"row_heading level0 row3\" >Rajasthan</th>\n",
       "                        <td id=\"T_df67306e_6ccb_11ea_a2b9_88787351996arow3_col0\" class=\"data row3 col0\" >24</td>\n",
       "            </tr>\n",
       "            <tr>\n",
       "                        <th id=\"T_df67306e_6ccb_11ea_a2b9_88787351996alevel0_row4\" class=\"row_heading level0 row4\" >Delhi</th>\n",
       "                        <td id=\"T_df67306e_6ccb_11ea_a2b9_88787351996arow4_col0\" class=\"data row4 col0\" >23</td>\n",
       "            </tr>\n",
       "            <tr>\n",
       "                        <th id=\"T_df67306e_6ccb_11ea_a2b9_88787351996alevel0_row5\" class=\"row_heading level0 row5\" >Karnataka</th>\n",
       "                        <td id=\"T_df67306e_6ccb_11ea_a2b9_88787351996arow5_col0\" class=\"data row5 col0\" >23</td>\n",
       "            </tr>\n",
       "            <tr>\n",
       "                        <th id=\"T_df67306e_6ccb_11ea_a2b9_88787351996alevel0_row6\" class=\"row_heading level0 row6\" >Haryana</th>\n",
       "                        <td id=\"T_df67306e_6ccb_11ea_a2b9_88787351996arow6_col0\" class=\"data row6 col0\" >21</td>\n",
       "            </tr>\n",
       "            <tr>\n",
       "                        <th id=\"T_df67306e_6ccb_11ea_a2b9_88787351996alevel0_row7\" class=\"row_heading level0 row7\" >Punjab</th>\n",
       "                        <td id=\"T_df67306e_6ccb_11ea_a2b9_88787351996arow7_col0\" class=\"data row7 col0\" >20</td>\n",
       "            </tr>\n",
       "            <tr>\n",
       "                        <th id=\"T_df67306e_6ccb_11ea_a2b9_88787351996alevel0_row8\" class=\"row_heading level0 row8\" >Uttar Pradesh</th>\n",
       "                        <td id=\"T_df67306e_6ccb_11ea_a2b9_88787351996arow8_col0\" class=\"data row8 col0\" >19</td>\n",
       "            </tr>\n",
       "            <tr>\n",
       "                        <th id=\"T_df67306e_6ccb_11ea_a2b9_88787351996alevel0_row9\" class=\"row_heading level0 row9\" >Gujarat</th>\n",
       "                        <td id=\"T_df67306e_6ccb_11ea_a2b9_88787351996arow9_col0\" class=\"data row9 col0\" >17</td>\n",
       "            </tr>\n",
       "            <tr>\n",
       "                        <th id=\"T_df67306e_6ccb_11ea_a2b9_88787351996alevel0_row10\" class=\"row_heading level0 row10\" >Ladakh</th>\n",
       "                        <td id=\"T_df67306e_6ccb_11ea_a2b9_88787351996arow10_col0\" class=\"data row10 col0\" >13</td>\n",
       "            </tr>\n",
       "            <tr>\n",
       "                        <th id=\"T_df67306e_6ccb_11ea_a2b9_88787351996alevel0_row11\" class=\"row_heading level0 row11\" >Tamil Nadu</th>\n",
       "                        <td id=\"T_df67306e_6ccb_11ea_a2b9_88787351996arow11_col0\" class=\"data row11 col0\" >8</td>\n",
       "            </tr>\n",
       "            <tr>\n",
       "                        <th id=\"T_df67306e_6ccb_11ea_a2b9_88787351996alevel0_row12\" class=\"row_heading level0 row12\" >West Bengal</th>\n",
       "                        <td id=\"T_df67306e_6ccb_11ea_a2b9_88787351996arow12_col0\" class=\"data row12 col0\" >7</td>\n",
       "            </tr>\n",
       "            <tr>\n",
       "                        <th id=\"T_df67306e_6ccb_11ea_a2b9_88787351996alevel0_row13\" class=\"row_heading level0 row13\" >Madhya Pradesh</th>\n",
       "                        <td id=\"T_df67306e_6ccb_11ea_a2b9_88787351996arow13_col0\" class=\"data row13 col0\" >6</td>\n",
       "            </tr>\n",
       "            <tr>\n",
       "                        <th id=\"T_df67306e_6ccb_11ea_a2b9_88787351996alevel0_row14\" class=\"row_heading level0 row14\" >Chandigarh</th>\n",
       "                        <td id=\"T_df67306e_6ccb_11ea_a2b9_88787351996arow14_col0\" class=\"data row14 col0\" >5</td>\n",
       "            </tr>\n",
       "            <tr>\n",
       "                        <th id=\"T_df67306e_6ccb_11ea_a2b9_88787351996alevel0_row15\" class=\"row_heading level0 row15\" >Andhra Pradesh</th>\n",
       "                        <td id=\"T_df67306e_6ccb_11ea_a2b9_88787351996arow15_col0\" class=\"data row15 col0\" >5</td>\n",
       "            </tr>\n",
       "            <tr>\n",
       "                        <th id=\"T_df67306e_6ccb_11ea_a2b9_88787351996alevel0_row16\" class=\"row_heading level0 row16\" >Jammu and Kashmir</th>\n",
       "                        <td id=\"T_df67306e_6ccb_11ea_a2b9_88787351996arow16_col0\" class=\"data row16 col0\" >4</td>\n",
       "            </tr>\n",
       "            <tr>\n",
       "                        <th id=\"T_df67306e_6ccb_11ea_a2b9_88787351996alevel0_row17\" class=\"row_heading level0 row17\" >Uttarakhand</th>\n",
       "                        <td id=\"T_df67306e_6ccb_11ea_a2b9_88787351996arow17_col0\" class=\"data row17 col0\" >3</td>\n",
       "            </tr>\n",
       "            <tr>\n",
       "                        <th id=\"T_df67306e_6ccb_11ea_a2b9_88787351996alevel0_row18\" class=\"row_heading level0 row18\" >Himachal Pradesh</th>\n",
       "                        <td id=\"T_df67306e_6ccb_11ea_a2b9_88787351996arow18_col0\" class=\"data row18 col0\" >2</td>\n",
       "            </tr>\n",
       "            <tr>\n",
       "                        <th id=\"T_df67306e_6ccb_11ea_a2b9_88787351996alevel0_row19\" class=\"row_heading level0 row19\" >Odisha</th>\n",
       "                        <td id=\"T_df67306e_6ccb_11ea_a2b9_88787351996arow19_col0\" class=\"data row19 col0\" >2</td>\n",
       "            </tr>\n",
       "            <tr>\n",
       "                        <th id=\"T_df67306e_6ccb_11ea_a2b9_88787351996alevel0_row20\" class=\"row_heading level0 row20\" >Puducherry</th>\n",
       "                        <td id=\"T_df67306e_6ccb_11ea_a2b9_88787351996arow20_col0\" class=\"data row20 col0\" >1</td>\n",
       "            </tr>\n",
       "            <tr>\n",
       "                        <th id=\"T_df67306e_6ccb_11ea_a2b9_88787351996alevel0_row21\" class=\"row_heading level0 row21\" >Chhattisgarh</th>\n",
       "                        <td id=\"T_df67306e_6ccb_11ea_a2b9_88787351996arow21_col0\" class=\"data row21 col0\" >1</td>\n",
       "            </tr>\n",
       "            <tr>\n",
       "                        <th id=\"T_df67306e_6ccb_11ea_a2b9_88787351996alevel0_row22\" class=\"row_heading level0 row22\" >Bihar</th>\n",
       "                        <td id=\"T_df67306e_6ccb_11ea_a2b9_88787351996arow22_col0\" class=\"data row22 col0\" >1</td>\n",
       "            </tr>\n",
       "    </tbody></table>"
      ],
      "text/plain": [
       "<pandas.io.formats.style.Styler at 0x7f502026b710>"
      ]
     },
     "execution_count": 11,
     "metadata": {},
     "output_type": "execute_result"
    }
   ],
   "source": [
    "\n",
    "\n",
    "x = df.groupby('Name of State / UT')['Active cases'].sum().sort_values(ascending=False).to_frame()\n",
    "total_state_wise = x\n",
    "x = x.style.background_gradient(cmap='Reds')\n",
    "\n",
    "\n",
    "total_state_wise.index.name = None\n",
    "x"
   ]
  },
  {
   "cell_type": "code",
   "execution_count": 12,
   "metadata": {},
   "outputs": [
    {
     "data": {
      "text/html": [
       "<div>\n",
       "<style scoped>\n",
       "    .dataframe tbody tr th:only-of-type {\n",
       "        vertical-align: middle;\n",
       "    }\n",
       "\n",
       "    .dataframe tbody tr th {\n",
       "        vertical-align: top;\n",
       "    }\n",
       "\n",
       "    .dataframe thead th {\n",
       "        text-align: right;\n",
       "    }\n",
       "</style>\n",
       "<table border=\"1\" class=\"dataframe\">\n",
       "  <thead>\n",
       "    <tr style=\"text-align: right;\">\n",
       "      <th></th>\n",
       "      <th>Active cases</th>\n",
       "    </tr>\n",
       "  </thead>\n",
       "  <tbody>\n",
       "    <tr>\n",
       "      <th>Maharashtra</th>\n",
       "      <td>65</td>\n",
       "    </tr>\n",
       "    <tr>\n",
       "      <th>Kerala</th>\n",
       "      <td>64</td>\n",
       "    </tr>\n",
       "    <tr>\n",
       "      <th>Telengana</th>\n",
       "      <td>25</td>\n",
       "    </tr>\n",
       "    <tr>\n",
       "      <th>Rajasthan</th>\n",
       "      <td>24</td>\n",
       "    </tr>\n",
       "    <tr>\n",
       "      <th>Delhi</th>\n",
       "      <td>23</td>\n",
       "    </tr>\n",
       "    <tr>\n",
       "      <th>Karnataka</th>\n",
       "      <td>23</td>\n",
       "    </tr>\n",
       "    <tr>\n",
       "      <th>Haryana</th>\n",
       "      <td>21</td>\n",
       "    </tr>\n",
       "    <tr>\n",
       "      <th>Punjab</th>\n",
       "      <td>20</td>\n",
       "    </tr>\n",
       "    <tr>\n",
       "      <th>Uttar Pradesh</th>\n",
       "      <td>19</td>\n",
       "    </tr>\n",
       "    <tr>\n",
       "      <th>Gujarat</th>\n",
       "      <td>17</td>\n",
       "    </tr>\n",
       "    <tr>\n",
       "      <th>Ladakh</th>\n",
       "      <td>13</td>\n",
       "    </tr>\n",
       "    <tr>\n",
       "      <th>Tamil Nadu</th>\n",
       "      <td>8</td>\n",
       "    </tr>\n",
       "    <tr>\n",
       "      <th>West Bengal</th>\n",
       "      <td>7</td>\n",
       "    </tr>\n",
       "    <tr>\n",
       "      <th>Madhya Pradesh</th>\n",
       "      <td>6</td>\n",
       "    </tr>\n",
       "    <tr>\n",
       "      <th>Chandigarh</th>\n",
       "      <td>5</td>\n",
       "    </tr>\n",
       "    <tr>\n",
       "      <th>Andhra Pradesh</th>\n",
       "      <td>5</td>\n",
       "    </tr>\n",
       "    <tr>\n",
       "      <th>Jammu and Kashmir</th>\n",
       "      <td>4</td>\n",
       "    </tr>\n",
       "    <tr>\n",
       "      <th>Uttarakhand</th>\n",
       "      <td>3</td>\n",
       "    </tr>\n",
       "    <tr>\n",
       "      <th>Himachal Pradesh</th>\n",
       "      <td>2</td>\n",
       "    </tr>\n",
       "    <tr>\n",
       "      <th>Odisha</th>\n",
       "      <td>2</td>\n",
       "    </tr>\n",
       "    <tr>\n",
       "      <th>Puducherry</th>\n",
       "      <td>1</td>\n",
       "    </tr>\n",
       "    <tr>\n",
       "      <th>Chhattisgarh</th>\n",
       "      <td>1</td>\n",
       "    </tr>\n",
       "    <tr>\n",
       "      <th>Bihar</th>\n",
       "      <td>1</td>\n",
       "    </tr>\n",
       "  </tbody>\n",
       "</table>\n",
       "</div>"
      ],
      "text/plain": [
       "                   Active cases\n",
       "Maharashtra                  65\n",
       "Kerala                       64\n",
       "Telengana                    25\n",
       "Rajasthan                    24\n",
       "Delhi                        23\n",
       "Karnataka                    23\n",
       "Haryana                      21\n",
       "Punjab                       20\n",
       "Uttar Pradesh                19\n",
       "Gujarat                      17\n",
       "Ladakh                       13\n",
       "Tamil Nadu                    8\n",
       "West Bengal                   7\n",
       "Madhya Pradesh                6\n",
       "Chandigarh                    5\n",
       "Andhra Pradesh                5\n",
       "Jammu and Kashmir             4\n",
       "Uttarakhand                   3\n",
       "Himachal Pradesh              2\n",
       "Odisha                        2\n",
       "Puducherry                    1\n",
       "Chhattisgarh                  1\n",
       "Bihar                         1"
      ]
     },
     "execution_count": 12,
     "metadata": {},
     "output_type": "execute_result"
    }
   ],
   "source": [
    "\n",
    "total_state_wise"
   ]
  },
  {
   "cell_type": "code",
   "execution_count": 13,
   "metadata": {},
   "outputs": [
    {
     "name": "stdout",
     "output_type": "stream",
     "text": [
      "<table  class=\" w3-table w3-striped w3-bordered w3-border w3-hoverable w3-white\">  <thead>    <tr >      <th>States</th>      <th>Active cases</th>    </tr>  </thead>  <tbody>    <tr>      <th>Maharashtra</th>      <td>65</td>    </tr>    <tr>      <th>Kerala</th>      <td>64</td>    </tr>    <tr>      <th>Telengana</th>      <td>25</td>    </tr>    <tr>      <th>Rajasthan</th>      <td>24</td>    </tr>    <tr>      <th>Delhi</th>      <td>23</td>    </tr>    <tr>      <th>Karnataka</th>      <td>23</td>    </tr>    <tr>      <th>Haryana</th>      <td>21</td>    </tr>    <tr>      <th>Punjab</th>      <td>20</td>    </tr>    <tr>      <th>Uttar Pradesh</th>      <td>19</td>    </tr>    <tr>      <th>Gujarat</th>      <td>17</td>    </tr>    <tr>      <th>Ladakh</th>      <td>13</td>    </tr>    <tr>      <th>Tamil Nadu</th>      <td>8</td>    </tr>    <tr>      <th>West Bengal</th>      <td>7</td>    </tr>    <tr>      <th>Madhya Pradesh</th>      <td>6</td>    </tr>    <tr>      <th>Chandigarh</th>      <td>5</td>    </tr>    <tr>      <th>Andhra Pradesh</th>      <td>5</td>    </tr>    <tr>      <th>Jammu and Kashmir</th>      <td>4</td>    </tr>    <tr>      <th>Uttarakhand</th>      <td>3</td>    </tr>    <tr>      <th>Himachal Pradesh</th>      <td>2</td>    </tr>    <tr>      <th>Odisha</th>      <td>2</td>    </tr>    <tr>      <th>Puducherry</th>      <td>1</td>    </tr>    <tr>      <th>Chhattisgarh</th>      <td>1</td>    </tr>    <tr>      <th>Bihar</th>      <td>1</td>    </tr>  </tbody></table>\n"
     ]
    }
   ],
   "source": [
    "def create_table(df):\n",
    "    table=df.to_html(classes='w3-table w3-striped w3-bordered w3-border w3-hoverable w3-white')\n",
    "    table = table.replace('\\n','')\n",
    "    table = table.replace('dataframe','')\n",
    "    table = table.replace('border=\"1\"','')\n",
    "    table = table.replace('style=\"text-align: right;\"','')\n",
    "    table = table.replace('<th></th>','<th>States</th>')\n",
    "    return table\n",
    "print(create_table(total_state_wise))"
   ]
  },
  {
   "cell_type": "code",
   "execution_count": 14,
   "metadata": {},
   "outputs": [
    {
     "data": {
      "application/vnd.plotly.v1+json": {
       "config": {
        "plotlyServerURL": "https://plot.ly"
       },
       "data": [
        {
         "alignmentgroup": "True",
         "hoverlabel": {
          "namelength": 0
         },
         "hovertemplate": "Active cases=%{text}<br>Name of State / UT=%{y}",
         "legendgroup": "",
         "marker": {
          "color": "#467dcf"
         },
         "name": "",
         "offsetgroup": "",
         "opacity": 0.8,
         "orientation": "h",
         "showlegend": false,
         "text": [
          1,
          1,
          1,
          2,
          2,
          3,
          4,
          5,
          5,
          6,
          7,
          8,
          13,
          17,
          19,
          20,
          21,
          23,
          23,
          24,
          25,
          64,
          65
         ],
         "textposition": "inside",
         "type": "bar",
         "x": [
          1,
          1,
          1,
          2,
          2,
          3,
          4,
          5,
          5,
          6,
          7,
          8,
          13,
          17,
          19,
          20,
          21,
          23,
          23,
          24,
          25,
          64,
          65
         ],
         "xaxis": "x",
         "y": [
          "Chhattisgarh",
          "Puducherry",
          "Bihar",
          "Odisha",
          "Himachal Pradesh",
          "Uttarakhand",
          "Jammu and Kashmir",
          "Andhra Pradesh",
          "Chandigarh",
          "Madhya Pradesh",
          "West Bengal",
          "Tamil Nadu",
          "Ladakh",
          "Gujarat",
          "Uttar Pradesh",
          "Punjab",
          "Haryana",
          "Karnataka",
          "Delhi",
          "Rajasthan",
          "Telengana",
          "Kerala",
          "Maharashtra"
         ],
         "yaxis": "y"
        }
       ],
       "layout": {
        "barmode": "relative",
        "height": 1000,
        "legend": {
         "tracegroupgap": 0
        },
        "plot_bgcolor": "rgb(250, 242, 242)",
        "template": {
         "data": {
          "bar": [
           {
            "error_x": {
             "color": "#2a3f5f"
            },
            "error_y": {
             "color": "#2a3f5f"
            },
            "marker": {
             "line": {
              "color": "#E5ECF6",
              "width": 0.5
             }
            },
            "type": "bar"
           }
          ],
          "barpolar": [
           {
            "marker": {
             "line": {
              "color": "#E5ECF6",
              "width": 0.5
             }
            },
            "type": "barpolar"
           }
          ],
          "carpet": [
           {
            "aaxis": {
             "endlinecolor": "#2a3f5f",
             "gridcolor": "white",
             "linecolor": "white",
             "minorgridcolor": "white",
             "startlinecolor": "#2a3f5f"
            },
            "baxis": {
             "endlinecolor": "#2a3f5f",
             "gridcolor": "white",
             "linecolor": "white",
             "minorgridcolor": "white",
             "startlinecolor": "#2a3f5f"
            },
            "type": "carpet"
           }
          ],
          "choropleth": [
           {
            "colorbar": {
             "outlinewidth": 0,
             "ticks": ""
            },
            "type": "choropleth"
           }
          ],
          "contour": [
           {
            "colorbar": {
             "outlinewidth": 0,
             "ticks": ""
            },
            "colorscale": [
             [
              0,
              "#0d0887"
             ],
             [
              0.1111111111111111,
              "#46039f"
             ],
             [
              0.2222222222222222,
              "#7201a8"
             ],
             [
              0.3333333333333333,
              "#9c179e"
             ],
             [
              0.4444444444444444,
              "#bd3786"
             ],
             [
              0.5555555555555556,
              "#d8576b"
             ],
             [
              0.6666666666666666,
              "#ed7953"
             ],
             [
              0.7777777777777778,
              "#fb9f3a"
             ],
             [
              0.8888888888888888,
              "#fdca26"
             ],
             [
              1,
              "#f0f921"
             ]
            ],
            "type": "contour"
           }
          ],
          "contourcarpet": [
           {
            "colorbar": {
             "outlinewidth": 0,
             "ticks": ""
            },
            "type": "contourcarpet"
           }
          ],
          "heatmap": [
           {
            "colorbar": {
             "outlinewidth": 0,
             "ticks": ""
            },
            "colorscale": [
             [
              0,
              "#0d0887"
             ],
             [
              0.1111111111111111,
              "#46039f"
             ],
             [
              0.2222222222222222,
              "#7201a8"
             ],
             [
              0.3333333333333333,
              "#9c179e"
             ],
             [
              0.4444444444444444,
              "#bd3786"
             ],
             [
              0.5555555555555556,
              "#d8576b"
             ],
             [
              0.6666666666666666,
              "#ed7953"
             ],
             [
              0.7777777777777778,
              "#fb9f3a"
             ],
             [
              0.8888888888888888,
              "#fdca26"
             ],
             [
              1,
              "#f0f921"
             ]
            ],
            "type": "heatmap"
           }
          ],
          "heatmapgl": [
           {
            "colorbar": {
             "outlinewidth": 0,
             "ticks": ""
            },
            "colorscale": [
             [
              0,
              "#0d0887"
             ],
             [
              0.1111111111111111,
              "#46039f"
             ],
             [
              0.2222222222222222,
              "#7201a8"
             ],
             [
              0.3333333333333333,
              "#9c179e"
             ],
             [
              0.4444444444444444,
              "#bd3786"
             ],
             [
              0.5555555555555556,
              "#d8576b"
             ],
             [
              0.6666666666666666,
              "#ed7953"
             ],
             [
              0.7777777777777778,
              "#fb9f3a"
             ],
             [
              0.8888888888888888,
              "#fdca26"
             ],
             [
              1,
              "#f0f921"
             ]
            ],
            "type": "heatmapgl"
           }
          ],
          "histogram": [
           {
            "marker": {
             "colorbar": {
              "outlinewidth": 0,
              "ticks": ""
             }
            },
            "type": "histogram"
           }
          ],
          "histogram2d": [
           {
            "colorbar": {
             "outlinewidth": 0,
             "ticks": ""
            },
            "colorscale": [
             [
              0,
              "#0d0887"
             ],
             [
              0.1111111111111111,
              "#46039f"
             ],
             [
              0.2222222222222222,
              "#7201a8"
             ],
             [
              0.3333333333333333,
              "#9c179e"
             ],
             [
              0.4444444444444444,
              "#bd3786"
             ],
             [
              0.5555555555555556,
              "#d8576b"
             ],
             [
              0.6666666666666666,
              "#ed7953"
             ],
             [
              0.7777777777777778,
              "#fb9f3a"
             ],
             [
              0.8888888888888888,
              "#fdca26"
             ],
             [
              1,
              "#f0f921"
             ]
            ],
            "type": "histogram2d"
           }
          ],
          "histogram2dcontour": [
           {
            "colorbar": {
             "outlinewidth": 0,
             "ticks": ""
            },
            "colorscale": [
             [
              0,
              "#0d0887"
             ],
             [
              0.1111111111111111,
              "#46039f"
             ],
             [
              0.2222222222222222,
              "#7201a8"
             ],
             [
              0.3333333333333333,
              "#9c179e"
             ],
             [
              0.4444444444444444,
              "#bd3786"
             ],
             [
              0.5555555555555556,
              "#d8576b"
             ],
             [
              0.6666666666666666,
              "#ed7953"
             ],
             [
              0.7777777777777778,
              "#fb9f3a"
             ],
             [
              0.8888888888888888,
              "#fdca26"
             ],
             [
              1,
              "#f0f921"
             ]
            ],
            "type": "histogram2dcontour"
           }
          ],
          "mesh3d": [
           {
            "colorbar": {
             "outlinewidth": 0,
             "ticks": ""
            },
            "type": "mesh3d"
           }
          ],
          "parcoords": [
           {
            "line": {
             "colorbar": {
              "outlinewidth": 0,
              "ticks": ""
             }
            },
            "type": "parcoords"
           }
          ],
          "pie": [
           {
            "automargin": true,
            "type": "pie"
           }
          ],
          "scatter": [
           {
            "marker": {
             "colorbar": {
              "outlinewidth": 0,
              "ticks": ""
             }
            },
            "type": "scatter"
           }
          ],
          "scatter3d": [
           {
            "line": {
             "colorbar": {
              "outlinewidth": 0,
              "ticks": ""
             }
            },
            "marker": {
             "colorbar": {
              "outlinewidth": 0,
              "ticks": ""
             }
            },
            "type": "scatter3d"
           }
          ],
          "scattercarpet": [
           {
            "marker": {
             "colorbar": {
              "outlinewidth": 0,
              "ticks": ""
             }
            },
            "type": "scattercarpet"
           }
          ],
          "scattergeo": [
           {
            "marker": {
             "colorbar": {
              "outlinewidth": 0,
              "ticks": ""
             }
            },
            "type": "scattergeo"
           }
          ],
          "scattergl": [
           {
            "marker": {
             "colorbar": {
              "outlinewidth": 0,
              "ticks": ""
             }
            },
            "type": "scattergl"
           }
          ],
          "scattermapbox": [
           {
            "marker": {
             "colorbar": {
              "outlinewidth": 0,
              "ticks": ""
             }
            },
            "type": "scattermapbox"
           }
          ],
          "scatterpolar": [
           {
            "marker": {
             "colorbar": {
              "outlinewidth": 0,
              "ticks": ""
             }
            },
            "type": "scatterpolar"
           }
          ],
          "scatterpolargl": [
           {
            "marker": {
             "colorbar": {
              "outlinewidth": 0,
              "ticks": ""
             }
            },
            "type": "scatterpolargl"
           }
          ],
          "scatterternary": [
           {
            "marker": {
             "colorbar": {
              "outlinewidth": 0,
              "ticks": ""
             }
            },
            "type": "scatterternary"
           }
          ],
          "surface": [
           {
            "colorbar": {
             "outlinewidth": 0,
             "ticks": ""
            },
            "colorscale": [
             [
              0,
              "#0d0887"
             ],
             [
              0.1111111111111111,
              "#46039f"
             ],
             [
              0.2222222222222222,
              "#7201a8"
             ],
             [
              0.3333333333333333,
              "#9c179e"
             ],
             [
              0.4444444444444444,
              "#bd3786"
             ],
             [
              0.5555555555555556,
              "#d8576b"
             ],
             [
              0.6666666666666666,
              "#ed7953"
             ],
             [
              0.7777777777777778,
              "#fb9f3a"
             ],
             [
              0.8888888888888888,
              "#fdca26"
             ],
             [
              1,
              "#f0f921"
             ]
            ],
            "type": "surface"
           }
          ],
          "table": [
           {
            "cells": {
             "fill": {
              "color": "#EBF0F8"
             },
             "line": {
              "color": "white"
             }
            },
            "header": {
             "fill": {
              "color": "#C8D4E3"
             },
             "line": {
              "color": "white"
             }
            },
            "type": "table"
           }
          ]
         },
         "layout": {
          "annotationdefaults": {
           "arrowcolor": "#2a3f5f",
           "arrowhead": 0,
           "arrowwidth": 1
          },
          "coloraxis": {
           "colorbar": {
            "outlinewidth": 0,
            "ticks": ""
           }
          },
          "colorscale": {
           "diverging": [
            [
             0,
             "#8e0152"
            ],
            [
             0.1,
             "#c51b7d"
            ],
            [
             0.2,
             "#de77ae"
            ],
            [
             0.3,
             "#f1b6da"
            ],
            [
             0.4,
             "#fde0ef"
            ],
            [
             0.5,
             "#f7f7f7"
            ],
            [
             0.6,
             "#e6f5d0"
            ],
            [
             0.7,
             "#b8e186"
            ],
            [
             0.8,
             "#7fbc41"
            ],
            [
             0.9,
             "#4d9221"
            ],
            [
             1,
             "#276419"
            ]
           ],
           "sequential": [
            [
             0,
             "#0d0887"
            ],
            [
             0.1111111111111111,
             "#46039f"
            ],
            [
             0.2222222222222222,
             "#7201a8"
            ],
            [
             0.3333333333333333,
             "#9c179e"
            ],
            [
             0.4444444444444444,
             "#bd3786"
            ],
            [
             0.5555555555555556,
             "#d8576b"
            ],
            [
             0.6666666666666666,
             "#ed7953"
            ],
            [
             0.7777777777777778,
             "#fb9f3a"
            ],
            [
             0.8888888888888888,
             "#fdca26"
            ],
            [
             1,
             "#f0f921"
            ]
           ],
           "sequentialminus": [
            [
             0,
             "#0d0887"
            ],
            [
             0.1111111111111111,
             "#46039f"
            ],
            [
             0.2222222222222222,
             "#7201a8"
            ],
            [
             0.3333333333333333,
             "#9c179e"
            ],
            [
             0.4444444444444444,
             "#bd3786"
            ],
            [
             0.5555555555555556,
             "#d8576b"
            ],
            [
             0.6666666666666666,
             "#ed7953"
            ],
            [
             0.7777777777777778,
             "#fb9f3a"
            ],
            [
             0.8888888888888888,
             "#fdca26"
            ],
            [
             1,
             "#f0f921"
            ]
           ]
          },
          "colorway": [
           "#636efa",
           "#EF553B",
           "#00cc96",
           "#ab63fa",
           "#FFA15A",
           "#19d3f3",
           "#FF6692",
           "#B6E880",
           "#FF97FF",
           "#FECB52"
          ],
          "font": {
           "color": "#2a3f5f"
          },
          "geo": {
           "bgcolor": "white",
           "lakecolor": "white",
           "landcolor": "#E5ECF6",
           "showlakes": true,
           "showland": true,
           "subunitcolor": "white"
          },
          "hoverlabel": {
           "align": "left"
          },
          "hovermode": "closest",
          "mapbox": {
           "style": "light"
          },
          "paper_bgcolor": "white",
          "plot_bgcolor": "#E5ECF6",
          "polar": {
           "angularaxis": {
            "gridcolor": "white",
            "linecolor": "white",
            "ticks": ""
           },
           "bgcolor": "#E5ECF6",
           "radialaxis": {
            "gridcolor": "white",
            "linecolor": "white",
            "ticks": ""
           }
          },
          "scene": {
           "xaxis": {
            "backgroundcolor": "#E5ECF6",
            "gridcolor": "white",
            "gridwidth": 2,
            "linecolor": "white",
            "showbackground": true,
            "ticks": "",
            "zerolinecolor": "white"
           },
           "yaxis": {
            "backgroundcolor": "#E5ECF6",
            "gridcolor": "white",
            "gridwidth": 2,
            "linecolor": "white",
            "showbackground": true,
            "ticks": "",
            "zerolinecolor": "white"
           },
           "zaxis": {
            "backgroundcolor": "#E5ECF6",
            "gridcolor": "white",
            "gridwidth": 2,
            "linecolor": "white",
            "showbackground": true,
            "ticks": "",
            "zerolinecolor": "white"
           }
          },
          "shapedefaults": {
           "line": {
            "color": "#2a3f5f"
           }
          },
          "ternary": {
           "aaxis": {
            "gridcolor": "white",
            "linecolor": "white",
            "ticks": ""
           },
           "baxis": {
            "gridcolor": "white",
            "linecolor": "white",
            "ticks": ""
           },
           "bgcolor": "#E5ECF6",
           "caxis": {
            "gridcolor": "white",
            "linecolor": "white",
            "ticks": ""
           }
          },
          "title": {
           "x": 0.05
          },
          "xaxis": {
           "automargin": true,
           "gridcolor": "white",
           "linecolor": "white",
           "ticks": "",
           "title": {
            "standoff": 15
           },
           "zerolinecolor": "white",
           "zerolinewidth": 2
          },
          "yaxis": {
           "automargin": true,
           "gridcolor": "white",
           "linecolor": "white",
           "ticks": "",
           "title": {
            "standoff": 15
           },
           "zerolinecolor": "white",
           "zerolinewidth": 2
          }
         }
        },
        "title": {
         "text": "Total Active Cases"
        },
        "width": 1000,
        "xaxis": {
         "anchor": "y",
         "domain": [
          0,
          1
         ],
         "range": [
          0,
          65
         ],
         "title": {
          "text": "Active cases"
         }
        },
        "yaxis": {
         "anchor": "x",
         "domain": [
          0,
          1
         ],
         "title": {
          "text": "Name of State / UT"
         }
        }
       }
      },
      "text/html": [
       "<div>\n",
       "        \n",
       "        \n",
       "            <div id=\"dd63b0d4-5786-45ad-baca-ff5847017f7c\" class=\"plotly-graph-div\" style=\"height:1000px; width:1000px;\"></div>\n",
       "            <script type=\"text/javascript\">\n",
       "                require([\"plotly\"], function(Plotly) {\n",
       "                    window.PLOTLYENV=window.PLOTLYENV || {};\n",
       "                    \n",
       "                if (document.getElementById(\"dd63b0d4-5786-45ad-baca-ff5847017f7c\")) {\n",
       "                    Plotly.newPlot(\n",
       "                        'dd63b0d4-5786-45ad-baca-ff5847017f7c',\n",
       "                        [{\"alignmentgroup\": \"True\", \"hoverlabel\": {\"namelength\": 0}, \"hovertemplate\": \"Active cases=%{text}<br>Name of State / UT=%{y}\", \"legendgroup\": \"\", \"marker\": {\"color\": \"#467dcf\"}, \"name\": \"\", \"offsetgroup\": \"\", \"opacity\": 0.8, \"orientation\": \"h\", \"showlegend\": false, \"text\": [1.0, 1.0, 1.0, 2.0, 2.0, 3.0, 4.0, 5.0, 5.0, 6.0, 7.0, 8.0, 13.0, 17.0, 19.0, 20.0, 21.0, 23.0, 23.0, 24.0, 25.0, 64.0, 65.0], \"textposition\": \"inside\", \"type\": \"bar\", \"x\": [1, 1, 1, 2, 2, 3, 4, 5, 5, 6, 7, 8, 13, 17, 19, 20, 21, 23, 23, 24, 25, 64, 65], \"xaxis\": \"x\", \"y\": [\"Chhattisgarh\", \"Puducherry\", \"Bihar\", \"Odisha\", \"Himachal Pradesh\", \"Uttarakhand\", \"Jammu and Kashmir\", \"Andhra Pradesh\", \"Chandigarh\", \"Madhya Pradesh\", \"West Bengal\", \"Tamil Nadu\", \"Ladakh\", \"Gujarat\", \"Uttar Pradesh\", \"Punjab\", \"Haryana\", \"Karnataka\", \"Delhi\", \"Rajasthan\", \"Telengana\", \"Kerala\", \"Maharashtra\"], \"yaxis\": \"y\"}],\n",
       "                        {\"barmode\": \"relative\", \"height\": 1000, \"legend\": {\"tracegroupgap\": 0}, \"plot_bgcolor\": \"rgb(250, 242, 242)\", \"template\": {\"data\": {\"bar\": [{\"error_x\": {\"color\": \"#2a3f5f\"}, \"error_y\": {\"color\": \"#2a3f5f\"}, \"marker\": {\"line\": {\"color\": \"#E5ECF6\", \"width\": 0.5}}, \"type\": \"bar\"}], \"barpolar\": [{\"marker\": {\"line\": {\"color\": \"#E5ECF6\", \"width\": 0.5}}, \"type\": \"barpolar\"}], \"carpet\": [{\"aaxis\": {\"endlinecolor\": \"#2a3f5f\", \"gridcolor\": \"white\", \"linecolor\": \"white\", \"minorgridcolor\": \"white\", \"startlinecolor\": \"#2a3f5f\"}, \"baxis\": {\"endlinecolor\": \"#2a3f5f\", \"gridcolor\": \"white\", \"linecolor\": \"white\", \"minorgridcolor\": \"white\", \"startlinecolor\": \"#2a3f5f\"}, \"type\": \"carpet\"}], \"choropleth\": [{\"colorbar\": {\"outlinewidth\": 0, \"ticks\": \"\"}, \"type\": \"choropleth\"}], \"contour\": [{\"colorbar\": {\"outlinewidth\": 0, \"ticks\": \"\"}, \"colorscale\": [[0.0, \"#0d0887\"], [0.1111111111111111, \"#46039f\"], [0.2222222222222222, \"#7201a8\"], [0.3333333333333333, \"#9c179e\"], [0.4444444444444444, \"#bd3786\"], [0.5555555555555556, \"#d8576b\"], [0.6666666666666666, \"#ed7953\"], [0.7777777777777778, \"#fb9f3a\"], [0.8888888888888888, \"#fdca26\"], [1.0, \"#f0f921\"]], \"type\": \"contour\"}], \"contourcarpet\": [{\"colorbar\": {\"outlinewidth\": 0, \"ticks\": \"\"}, \"type\": \"contourcarpet\"}], \"heatmap\": [{\"colorbar\": {\"outlinewidth\": 0, \"ticks\": \"\"}, \"colorscale\": [[0.0, \"#0d0887\"], [0.1111111111111111, \"#46039f\"], [0.2222222222222222, \"#7201a8\"], [0.3333333333333333, \"#9c179e\"], [0.4444444444444444, \"#bd3786\"], [0.5555555555555556, \"#d8576b\"], [0.6666666666666666, \"#ed7953\"], [0.7777777777777778, \"#fb9f3a\"], [0.8888888888888888, \"#fdca26\"], [1.0, \"#f0f921\"]], \"type\": \"heatmap\"}], \"heatmapgl\": [{\"colorbar\": {\"outlinewidth\": 0, \"ticks\": \"\"}, \"colorscale\": [[0.0, \"#0d0887\"], [0.1111111111111111, \"#46039f\"], [0.2222222222222222, \"#7201a8\"], [0.3333333333333333, \"#9c179e\"], [0.4444444444444444, \"#bd3786\"], [0.5555555555555556, \"#d8576b\"], [0.6666666666666666, \"#ed7953\"], [0.7777777777777778, \"#fb9f3a\"], [0.8888888888888888, \"#fdca26\"], [1.0, \"#f0f921\"]], \"type\": \"heatmapgl\"}], \"histogram\": [{\"marker\": {\"colorbar\": {\"outlinewidth\": 0, \"ticks\": \"\"}}, \"type\": \"histogram\"}], \"histogram2d\": [{\"colorbar\": {\"outlinewidth\": 0, \"ticks\": \"\"}, \"colorscale\": [[0.0, \"#0d0887\"], [0.1111111111111111, \"#46039f\"], [0.2222222222222222, \"#7201a8\"], [0.3333333333333333, \"#9c179e\"], [0.4444444444444444, \"#bd3786\"], [0.5555555555555556, \"#d8576b\"], [0.6666666666666666, \"#ed7953\"], [0.7777777777777778, \"#fb9f3a\"], [0.8888888888888888, \"#fdca26\"], [1.0, \"#f0f921\"]], \"type\": \"histogram2d\"}], \"histogram2dcontour\": [{\"colorbar\": {\"outlinewidth\": 0, \"ticks\": \"\"}, \"colorscale\": [[0.0, \"#0d0887\"], [0.1111111111111111, \"#46039f\"], [0.2222222222222222, \"#7201a8\"], [0.3333333333333333, \"#9c179e\"], [0.4444444444444444, \"#bd3786\"], [0.5555555555555556, \"#d8576b\"], [0.6666666666666666, \"#ed7953\"], [0.7777777777777778, \"#fb9f3a\"], [0.8888888888888888, \"#fdca26\"], [1.0, \"#f0f921\"]], \"type\": \"histogram2dcontour\"}], \"mesh3d\": [{\"colorbar\": {\"outlinewidth\": 0, \"ticks\": \"\"}, \"type\": \"mesh3d\"}], \"parcoords\": [{\"line\": {\"colorbar\": {\"outlinewidth\": 0, \"ticks\": \"\"}}, \"type\": \"parcoords\"}], \"pie\": [{\"automargin\": true, \"type\": \"pie\"}], \"scatter\": [{\"marker\": {\"colorbar\": {\"outlinewidth\": 0, \"ticks\": \"\"}}, \"type\": \"scatter\"}], \"scatter3d\": [{\"line\": {\"colorbar\": {\"outlinewidth\": 0, \"ticks\": \"\"}}, \"marker\": {\"colorbar\": {\"outlinewidth\": 0, \"ticks\": \"\"}}, \"type\": \"scatter3d\"}], \"scattercarpet\": [{\"marker\": {\"colorbar\": {\"outlinewidth\": 0, \"ticks\": \"\"}}, \"type\": \"scattercarpet\"}], \"scattergeo\": [{\"marker\": {\"colorbar\": {\"outlinewidth\": 0, \"ticks\": \"\"}}, \"type\": \"scattergeo\"}], \"scattergl\": [{\"marker\": {\"colorbar\": {\"outlinewidth\": 0, \"ticks\": \"\"}}, \"type\": \"scattergl\"}], \"scattermapbox\": [{\"marker\": {\"colorbar\": {\"outlinewidth\": 0, \"ticks\": \"\"}}, \"type\": \"scattermapbox\"}], \"scatterpolar\": [{\"marker\": {\"colorbar\": {\"outlinewidth\": 0, \"ticks\": \"\"}}, \"type\": \"scatterpolar\"}], \"scatterpolargl\": [{\"marker\": {\"colorbar\": {\"outlinewidth\": 0, \"ticks\": \"\"}}, \"type\": \"scatterpolargl\"}], \"scatterternary\": [{\"marker\": {\"colorbar\": {\"outlinewidth\": 0, \"ticks\": \"\"}}, \"type\": \"scatterternary\"}], \"surface\": [{\"colorbar\": {\"outlinewidth\": 0, \"ticks\": \"\"}, \"colorscale\": [[0.0, \"#0d0887\"], [0.1111111111111111, \"#46039f\"], [0.2222222222222222, \"#7201a8\"], [0.3333333333333333, \"#9c179e\"], [0.4444444444444444, \"#bd3786\"], [0.5555555555555556, \"#d8576b\"], [0.6666666666666666, \"#ed7953\"], [0.7777777777777778, \"#fb9f3a\"], [0.8888888888888888, \"#fdca26\"], [1.0, \"#f0f921\"]], \"type\": \"surface\"}], \"table\": [{\"cells\": {\"fill\": {\"color\": \"#EBF0F8\"}, \"line\": {\"color\": \"white\"}}, \"header\": {\"fill\": {\"color\": \"#C8D4E3\"}, \"line\": {\"color\": \"white\"}}, \"type\": \"table\"}]}, \"layout\": {\"annotationdefaults\": {\"arrowcolor\": \"#2a3f5f\", \"arrowhead\": 0, \"arrowwidth\": 1}, \"coloraxis\": {\"colorbar\": {\"outlinewidth\": 0, \"ticks\": \"\"}}, \"colorscale\": {\"diverging\": [[0, \"#8e0152\"], [0.1, \"#c51b7d\"], [0.2, \"#de77ae\"], [0.3, \"#f1b6da\"], [0.4, \"#fde0ef\"], [0.5, \"#f7f7f7\"], [0.6, \"#e6f5d0\"], [0.7, \"#b8e186\"], [0.8, \"#7fbc41\"], [0.9, \"#4d9221\"], [1, \"#276419\"]], \"sequential\": [[0.0, \"#0d0887\"], [0.1111111111111111, \"#46039f\"], [0.2222222222222222, \"#7201a8\"], [0.3333333333333333, \"#9c179e\"], [0.4444444444444444, \"#bd3786\"], [0.5555555555555556, \"#d8576b\"], [0.6666666666666666, \"#ed7953\"], [0.7777777777777778, \"#fb9f3a\"], [0.8888888888888888, \"#fdca26\"], [1.0, \"#f0f921\"]], \"sequentialminus\": [[0.0, \"#0d0887\"], [0.1111111111111111, \"#46039f\"], [0.2222222222222222, \"#7201a8\"], [0.3333333333333333, \"#9c179e\"], [0.4444444444444444, \"#bd3786\"], [0.5555555555555556, \"#d8576b\"], [0.6666666666666666, \"#ed7953\"], [0.7777777777777778, \"#fb9f3a\"], [0.8888888888888888, \"#fdca26\"], [1.0, \"#f0f921\"]]}, \"colorway\": [\"#636efa\", \"#EF553B\", \"#00cc96\", \"#ab63fa\", \"#FFA15A\", \"#19d3f3\", \"#FF6692\", \"#B6E880\", \"#FF97FF\", \"#FECB52\"], \"font\": {\"color\": \"#2a3f5f\"}, \"geo\": {\"bgcolor\": \"white\", \"lakecolor\": \"white\", \"landcolor\": \"#E5ECF6\", \"showlakes\": true, \"showland\": true, \"subunitcolor\": \"white\"}, \"hoverlabel\": {\"align\": \"left\"}, \"hovermode\": \"closest\", \"mapbox\": {\"style\": \"light\"}, \"paper_bgcolor\": \"white\", \"plot_bgcolor\": \"#E5ECF6\", \"polar\": {\"angularaxis\": {\"gridcolor\": \"white\", \"linecolor\": \"white\", \"ticks\": \"\"}, \"bgcolor\": \"#E5ECF6\", \"radialaxis\": {\"gridcolor\": \"white\", \"linecolor\": \"white\", \"ticks\": \"\"}}, \"scene\": {\"xaxis\": {\"backgroundcolor\": \"#E5ECF6\", \"gridcolor\": \"white\", \"gridwidth\": 2, \"linecolor\": \"white\", \"showbackground\": true, \"ticks\": \"\", \"zerolinecolor\": \"white\"}, \"yaxis\": {\"backgroundcolor\": \"#E5ECF6\", \"gridcolor\": \"white\", \"gridwidth\": 2, \"linecolor\": \"white\", \"showbackground\": true, \"ticks\": \"\", \"zerolinecolor\": \"white\"}, \"zaxis\": {\"backgroundcolor\": \"#E5ECF6\", \"gridcolor\": \"white\", \"gridwidth\": 2, \"linecolor\": \"white\", \"showbackground\": true, \"ticks\": \"\", \"zerolinecolor\": \"white\"}}, \"shapedefaults\": {\"line\": {\"color\": \"#2a3f5f\"}}, \"ternary\": {\"aaxis\": {\"gridcolor\": \"white\", \"linecolor\": \"white\", \"ticks\": \"\"}, \"baxis\": {\"gridcolor\": \"white\", \"linecolor\": \"white\", \"ticks\": \"\"}, \"bgcolor\": \"#E5ECF6\", \"caxis\": {\"gridcolor\": \"white\", \"linecolor\": \"white\", \"ticks\": \"\"}}, \"title\": {\"x\": 0.05}, \"xaxis\": {\"automargin\": true, \"gridcolor\": \"white\", \"linecolor\": \"white\", \"ticks\": \"\", \"title\": {\"standoff\": 15}, \"zerolinecolor\": \"white\", \"zerolinewidth\": 2}, \"yaxis\": {\"automargin\": true, \"gridcolor\": \"white\", \"linecolor\": \"white\", \"ticks\": \"\", \"title\": {\"standoff\": 15}, \"zerolinecolor\": \"white\", \"zerolinewidth\": 2}}}, \"title\": {\"text\": \"Total Active Cases\"}, \"width\": 1000, \"xaxis\": {\"anchor\": \"y\", \"domain\": [0.0, 1.0], \"range\": [0, 65], \"title\": {\"text\": \"Active cases\"}}, \"yaxis\": {\"anchor\": \"x\", \"domain\": [0.0, 1.0], \"title\": {\"text\": \"Name of State / UT\"}}},\n",
       "                        {\"responsive\": true}\n",
       "                    ).then(function(){\n",
       "                            \n",
       "var gd = document.getElementById('dd63b0d4-5786-45ad-baca-ff5847017f7c');\n",
       "var x = new MutationObserver(function (mutations, observer) {{\n",
       "        var display = window.getComputedStyle(gd).display;\n",
       "        if (!display || display === 'none') {{\n",
       "            console.log([gd, 'removed!']);\n",
       "            Plotly.purge(gd);\n",
       "            observer.disconnect();\n",
       "        }}\n",
       "}});\n",
       "\n",
       "// Listen for the removal of the full notebook cells\n",
       "var notebookContainer = gd.closest('#notebook-container');\n",
       "if (notebookContainer) {{\n",
       "    x.observe(notebookContainer, {childList: true});\n",
       "}}\n",
       "\n",
       "// Listen for the clearing of the current output cell\n",
       "var outputEl = gd.closest('.output');\n",
       "if (outputEl) {{\n",
       "    x.observe(outputEl, {childList: true});\n",
       "}}\n",
       "\n",
       "                        })\n",
       "                };\n",
       "                });\n",
       "            </script>\n",
       "        </div>"
      ]
     },
     "metadata": {},
     "output_type": "display_data"
    }
   ],
   "source": [
    "fig = px.bar(df.sort_values('Active cases', ascending=False).sort_values('Active cases', ascending=True), \n",
    "             x=\"Active cases\", y=\"Name of State / UT\", \n",
    "             title='Total Active Cases', \n",
    "             text='Active cases', \n",
    "             orientation='h', \n",
    "             width=1000, height=1000, range_x = [0, max(df['Active cases'])])\n",
    "fig.update_traces(marker_color='#467dcf', opacity=0.8, textposition='inside')\n",
    "\n",
    "fig.update_layout(plot_bgcolor='rgb(250, 242, 242)')\n",
    "fig.show()\n",
    "\n",
    "total_active_cases = json.dumps(fig, cls=plotly.utils.PlotlyJSONEncoder)"
   ]
  },
  {
   "cell_type": "code",
   "execution_count": 15,
   "metadata": {},
   "outputs": [
    {
     "data": {
      "image/png": "[encoded data removed]",
      "text/plain": [
       "<Waffle size 720x216 with 1 Axes>"
      ]
     },
     "metadata": {},
     "output_type": "display_data"
    }
   ],
   "source": [
    "df_condensed = pd.DataFrame([df['Active cases'].sum(),df['Cured/Discharged/Migrated'].sum(),df['Deaths'].sum()],columns=['Cases'])\n",
    "df_condensed.index=['Active cases','Recovered','Death']\n",
    "df_condensed\n",
    "\n",
    "\n",
    "fig = plt.figure(\n",
    "    FigureClass=Waffle, \n",
    "    rows=5,\n",
    "    values=df_condensed['Cases'],\n",
    "    labels=list(df_condensed.index),\n",
    "    figsize=(10, 3),\n",
    "    legend={'loc': 'upper left', 'bbox_to_anchor': (1.1, 1)}\n",
    ")"
   ]
  },
  {
   "cell_type": "code",
   "execution_count": 16,
   "metadata": {},
   "outputs": [
    {
     "data": {
      "text/html": [
       "<div style=\"width:100%;\"><div style=\"position:relative;width:100%;height:0;padding-bottom:60%;\"><iframe src=\"about:blank\" style=\"position:absolute;width:100%;height:100%;left:0;top:0;border:none !important;\" data-html=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 onload=\"this.contentDocument.open();this.contentDocument.write(atob(this.getAttribute('data-html')));this.contentDocument.close();\" allowfullscreen webkitallowfullscreen mozallowfullscreen></iframe></div></div>"
      ],
      "text/plain": [
       "<folium.folium.Map at 0x7f4fc8420c88>"
      ]
     },
     "execution_count": 16,
     "metadata": {},
     "output_type": "execute_result"
    }
   ],
   "source": [
    "# create map and display it\n",
    "\n",
    "df_full = pd.merge(India_coord,df,on='Name of State / UT')\n",
    "map = folium.Map(location=[20, 80], zoom_start=3.5,tiles='Stamen Toner')\n",
    "\n",
    "for lat, lon, value, name in zip(df_full['Latitude'], df_full['Longitude'], df_full['Active cases'], df_full['Name of State / UT']):\n",
    "    folium.CircleMarker([lat, lon],\n",
    "                        radius=value*0.7,\n",
    "                        popup = ('<strong>State</strong>: ' + str(name).capitalize() + '<br>'\n",
    "                                '<strong>Active Cases</strong>: ' + str(value) + '<br>'),\n",
    "                        color='red',\n",
    "                        \n",
    "                        fill_color='red',\n",
    "                        fill_opacity=0.3 ).add_to(map)\n",
    "map\n",
    "\n"
   ]
  },
  {
   "cell_type": "code",
   "execution_count": 17,
   "metadata": {},
   "outputs": [
    {
     "data": {
      "image/png": "[encoded data removed]",
      "text/plain": [
       "<Figure size 864x576 with 1 Axes>"
      ]
     },
     "metadata": {},
     "output_type": "display_data"
    }
   ],
   "source": [
    "\n",
    "\n",
    "f, ax = plt.subplots(figsize=(12, 8))\n",
    "data = df_full[['Name of State / UT','Total cases','Cured/Discharged/Migrated','Deaths']]\n",
    "data.sort_values('Total cases',ascending=False,inplace=True)\n",
    "sns.set_color_codes(\"pastel\")\n",
    "sns.barplot(x=\"Total cases\", y=\"Name of State / UT\", data=data,\n",
    "            label=\"Total\", color=\"r\")\n",
    "\n",
    "sns.set_color_codes(\"muted\")\n",
    "sns.barplot(x=\"Cured/Discharged/Migrated\", y=\"Name of State / UT\", data=data,\n",
    "            label=\"Recovered\", color=\"g\")\n",
    "\n",
    "\n",
    "# Add a legend and informative axis label\n",
    "ax.legend(ncol=2, loc=\"lower right\", frameon=True)\n",
    "ax.set(xlim=(0, 35), ylabel=\"\",\n",
    "       xlabel=\"Cases\")\n",
    "sns.despine(left=True, bottom=True)"
   ]
  },
  {
   "cell_type": "code",
   "execution_count": 18,
   "metadata": {
    "scrolled": true
   },
   "outputs": [
    {
     "data": {
      "application/vnd.plotly.v1+json": {
       "config": {
        "plotlyServerURL": "https://plot.ly"
       },
       "data": [
        {
         "mode": "lines+markers",
         "name": "Total Cases",
         "type": "scatter",
         "x": [
          "2020-01-30",
          "2020-01-31",
          "2020-02-01",
          "2020-02-02",
          "2020-02-03",
          "2020-02-04",
          "2020-02-05",
          "2020-02-06",
          "2020-02-07",
          "2020-02-08",
          "2020-02-09",
          "2020-02-10",
          "2020-02-11",
          "2020-02-12",
          "2020-02-13",
          "2020-02-14",
          "2020-02-15",
          "2020-02-16",
          "2020-02-17",
          "2020-02-18",
          "2020-02-19",
          "2020-02-20",
          "2020-02-21",
          "2020-02-22",
          "2020-02-23",
          "2020-02-24",
          "2020-02-25",
          "2020-02-26",
          "2020-02-27",
          "2020-02-28",
          "2020-02-29",
          "2020-03-01",
          "2020-03-02",
          "2020-03-03",
          "2020-03-04",
          "2020-03-05",
          "2020-03-06",
          "2020-03-07",
          "2020-03-08",
          "2020-03-09",
          "2020-03-10",
          "2020-03-11",
          "2020-03-12",
          "2020-03-13",
          "2020-03-14",
          "2020-03-15",
          "2020-03-16",
          "2020-03-17",
          "2020-03-18",
          "2020-03-19",
          "2020-03-20",
          "2020-03-21",
          "2020-03-22",
          "2020-03-22",
          "2020-03-22",
          "2020-03-22"
         ],
         "y": [
          1,
          1,
          1,
          2,
          3,
          3,
          3,
          3,
          3,
          3,
          3,
          3,
          3,
          3,
          3,
          3,
          3,
          3,
          3,
          3,
          3,
          3,
          3,
          3,
          3,
          3,
          3,
          3,
          3,
          3,
          3,
          3,
          6,
          9,
          32,
          33,
          34,
          37,
          43,
          50,
          65,
          65,
          77,
          85,
          100,
          110,
          114,
          140,
          170,
          198,
          249,
          329,
          390,
          390,
          390,
          390
         ]
        },
        {
         "mode": "lines",
         "name": "Recovered",
         "type": "scatter",
         "x": [
          "2020-01-30",
          "2020-01-31",
          "2020-02-01",
          "2020-02-02",
          "2020-02-03",
          "2020-02-04",
          "2020-02-05",
          "2020-02-06",
          "2020-02-07",
          "2020-02-08",
          "2020-02-09",
          "2020-02-10",
          "2020-02-11",
          "2020-02-12",
          "2020-02-13",
          "2020-02-14",
          "2020-02-15",
          "2020-02-16",
          "2020-02-17",
          "2020-02-18",
          "2020-02-19",
          "2020-02-20",
          "2020-02-21",
          "2020-02-22",
          "2020-02-23",
          "2020-02-24",
          "2020-02-25",
          "2020-02-26",
          "2020-02-27",
          "2020-02-28",
          "2020-02-29",
          "2020-03-01",
          "2020-03-02",
          "2020-03-03",
          "2020-03-04",
          "2020-03-05",
          "2020-03-06",
          "2020-03-07",
          "2020-03-08",
          "2020-03-09",
          "2020-03-10",
          "2020-03-11",
          "2020-03-12",
          "2020-03-13",
          "2020-03-14",
          "2020-03-15",
          "2020-03-16",
          "2020-03-17",
          "2020-03-18",
          "2020-03-19",
          "2020-03-20",
          "2020-03-21",
          "2020-03-22",
          "2020-03-22",
          "2020-03-22",
          "2020-03-22"
         ],
         "y": [
          0,
          0,
          0,
          0,
          0,
          0,
          0,
          0,
          0,
          0,
          0,
          0,
          0,
          0,
          0,
          0,
          0,
          0,
          0,
          0,
          0,
          0,
          0,
          0,
          0,
          0,
          0,
          0,
          0,
          0,
          0,
          0,
          3,
          3,
          3,
          3,
          3,
          3,
          3,
          3,
          4,
          4,
          4,
          10,
          10,
          13,
          13,
          14,
          14,
          14,
          22,
          23,
          24,
          24,
          24,
          24
         ]
        },
        {
         "mode": "lines",
         "name": "Active",
         "type": "scatter",
         "x": [
          "2020-01-30",
          "2020-01-31",
          "2020-02-01",
          "2020-02-02",
          "2020-02-03",
          "2020-02-04",
          "2020-02-05",
          "2020-02-06",
          "2020-02-07",
          "2020-02-08",
          "2020-02-09",
          "2020-02-10",
          "2020-02-11",
          "2020-02-12",
          "2020-02-13",
          "2020-02-14",
          "2020-02-15",
          "2020-02-16",
          "2020-02-17",
          "2020-02-18",
          "2020-02-19",
          "2020-02-20",
          "2020-02-21",
          "2020-02-22",
          "2020-02-23",
          "2020-02-24",
          "2020-02-25",
          "2020-02-26",
          "2020-02-27",
          "2020-02-28",
          "2020-02-29",
          "2020-03-01",
          "2020-03-02",
          "2020-03-03",
          "2020-03-04",
          "2020-03-05",
          "2020-03-06",
          "2020-03-07",
          "2020-03-08",
          "2020-03-09",
          "2020-03-10",
          "2020-03-11",
          "2020-03-12",
          "2020-03-13",
          "2020-03-14",
          "2020-03-15",
          "2020-03-16",
          "2020-03-17",
          "2020-03-18",
          "2020-03-19",
          "2020-03-20",
          "2020-03-21",
          "2020-03-22",
          "2020-03-22",
          "2020-03-22",
          "2020-03-22"
         ],
         "y": [
          1,
          1,
          1,
          2,
          3,
          3,
          3,
          3,
          3,
          3,
          3,
          3,
          3,
          3,
          3,
          3,
          3,
          3,
          3,
          3,
          3,
          3,
          3,
          3,
          3,
          3,
          3,
          3,
          3,
          3,
          3,
          3,
          3,
          6,
          29,
          30,
          31,
          34,
          40,
          47,
          61,
          61,
          72,
          73,
          88,
          95,
          99,
          123,
          153,
          181,
          223,
          301,
          359,
          359,
          359,
          359
         ]
        },
        {
         "mode": "lines",
         "name": "Deaths",
         "type": "scatter",
         "x": [
          "2020-01-30",
          "2020-01-31",
          "2020-02-01",
          "2020-02-02",
          "2020-02-03",
          "2020-02-04",
          "2020-02-05",
          "2020-02-06",
          "2020-02-07",
          "2020-02-08",
          "2020-02-09",
          "2020-02-10",
          "2020-02-11",
          "2020-02-12",
          "2020-02-13",
          "2020-02-14",
          "2020-02-15",
          "2020-02-16",
          "2020-02-17",
          "2020-02-18",
          "2020-02-19",
          "2020-02-20",
          "2020-02-21",
          "2020-02-22",
          "2020-02-23",
          "2020-02-24",
          "2020-02-25",
          "2020-02-26",
          "2020-02-27",
          "2020-02-28",
          "2020-02-29",
          "2020-03-01",
          "2020-03-02",
          "2020-03-03",
          "2020-03-04",
          "2020-03-05",
          "2020-03-06",
          "2020-03-07",
          "2020-03-08",
          "2020-03-09",
          "2020-03-10",
          "2020-03-11",
          "2020-03-12",
          "2020-03-13",
          "2020-03-14",
          "2020-03-15",
          "2020-03-16",
          "2020-03-17",
          "2020-03-18",
          "2020-03-19",
          "2020-03-20",
          "2020-03-21",
          "2020-03-22",
          "2020-03-22",
          "2020-03-22",
          "2020-03-22"
         ],
         "y": [
          0,
          0,
          0,
          0,
          0,
          0,
          0,
          0,
          0,
          0,
          0,
          0,
          0,
          0,
          0,
          0,
          0,
          0,
          0,
          0,
          0,
          0,
          0,
          0,
          0,
          0,
          0,
          0,
          0,
          0,
          0,
          0,
          0,
          0,
          0,
          0,
          0,
          0,
          0,
          0,
          0,
          0,
          1,
          2,
          2,
          2,
          2,
          2,
          3,
          3,
          4,
          4,
          7,
          7,
          7,
          7
         ]
        }
       ],
       "layout": {
        "plot_bgcolor": "rgb(250, 242, 242)",
        "template": {
         "data": {
          "bar": [
           {
            "error_x": {
             "color": "#2a3f5f"
            },
            "error_y": {
             "color": "#2a3f5f"
            },
            "marker": {
             "line": {
              "color": "#E5ECF6",
              "width": 0.5
             }
            },
            "type": "bar"
           }
          ],
          "barpolar": [
           {
            "marker": {
             "line": {
              "color": "#E5ECF6",
              "width": 0.5
             }
            },
            "type": "barpolar"
           }
          ],
          "carpet": [
           {
            "aaxis": {
             "endlinecolor": "#2a3f5f",
             "gridcolor": "white",
             "linecolor": "white",
             "minorgridcolor": "white",
             "startlinecolor": "#2a3f5f"
            },
            "baxis": {
             "endlinecolor": "#2a3f5f",
             "gridcolor": "white",
             "linecolor": "white",
             "minorgridcolor": "white",
             "startlinecolor": "#2a3f5f"
            },
            "type": "carpet"
           }
          ],
          "choropleth": [
           {
            "colorbar": {
             "outlinewidth": 0,
             "ticks": ""
            },
            "type": "choropleth"
           }
          ],
          "contour": [
           {
            "colorbar": {
             "outlinewidth": 0,
             "ticks": ""
            },
            "colorscale": [
             [
              0,
              "#0d0887"
             ],
             [
              0.1111111111111111,
              "#46039f"
             ],
             [
              0.2222222222222222,
              "#7201a8"
             ],
             [
              0.3333333333333333,
              "#9c179e"
             ],
             [
              0.4444444444444444,
              "#bd3786"
             ],
             [
              0.5555555555555556,
              "#d8576b"
             ],
             [
              0.6666666666666666,
              "#ed7953"
             ],
             [
              0.7777777777777778,
              "#fb9f3a"
             ],
             [
              0.8888888888888888,
              "#fdca26"
             ],
             [
              1,
              "#f0f921"
             ]
            ],
            "type": "contour"
           }
          ],
          "contourcarpet": [
           {
            "colorbar": {
             "outlinewidth": 0,
             "ticks": ""
            },
            "type": "contourcarpet"
           }
          ],
          "heatmap": [
           {
            "colorbar": {
             "outlinewidth": 0,
             "ticks": ""
            },
            "colorscale": [
             [
              0,
              "#0d0887"
             ],
             [
              0.1111111111111111,
              "#46039f"
             ],
             [
              0.2222222222222222,
              "#7201a8"
             ],
             [
              0.3333333333333333,
              "#9c179e"
             ],
             [
              0.4444444444444444,
              "#bd3786"
             ],
             [
              0.5555555555555556,
              "#d8576b"
             ],
             [
              0.6666666666666666,
              "#ed7953"
             ],
             [
              0.7777777777777778,
              "#fb9f3a"
             ],
             [
              0.8888888888888888,
              "#fdca26"
             ],
             [
              1,
              "#f0f921"
             ]
            ],
            "type": "heatmap"
           }
          ],
          "heatmapgl": [
           {
            "colorbar": {
             "outlinewidth": 0,
             "ticks": ""
            },
            "colorscale": [
             [
              0,
              "#0d0887"
             ],
             [
              0.1111111111111111,
              "#46039f"
             ],
             [
              0.2222222222222222,
              "#7201a8"
             ],
             [
              0.3333333333333333,
              "#9c179e"
             ],
             [
              0.4444444444444444,
              "#bd3786"
             ],
             [
              0.5555555555555556,
              "#d8576b"
             ],
             [
              0.6666666666666666,
              "#ed7953"
             ],
             [
              0.7777777777777778,
              "#fb9f3a"
             ],
             [
              0.8888888888888888,
              "#fdca26"
             ],
             [
              1,
              "#f0f921"
             ]
            ],
            "type": "heatmapgl"
           }
          ],
          "histogram": [
           {
            "marker": {
             "colorbar": {
              "outlinewidth": 0,
              "ticks": ""
             }
            },
            "type": "histogram"
           }
          ],
          "histogram2d": [
           {
            "colorbar": {
             "outlinewidth": 0,
             "ticks": ""
            },
            "colorscale": [
             [
              0,
              "#0d0887"
             ],
             [
              0.1111111111111111,
              "#46039f"
             ],
             [
              0.2222222222222222,
              "#7201a8"
             ],
             [
              0.3333333333333333,
              "#9c179e"
             ],
             [
              0.4444444444444444,
              "#bd3786"
             ],
             [
              0.5555555555555556,
              "#d8576b"
             ],
             [
              0.6666666666666666,
              "#ed7953"
             ],
             [
              0.7777777777777778,
              "#fb9f3a"
             ],
             [
              0.8888888888888888,
              "#fdca26"
             ],
             [
              1,
              "#f0f921"
             ]
            ],
            "type": "histogram2d"
           }
          ],
          "histogram2dcontour": [
           {
            "colorbar": {
             "outlinewidth": 0,
             "ticks": ""
            },
            "colorscale": [
             [
              0,
              "#0d0887"
             ],
             [
              0.1111111111111111,
              "#46039f"
             ],
             [
              0.2222222222222222,
              "#7201a8"
             ],
             [
              0.3333333333333333,
              "#9c179e"
             ],
             [
              0.4444444444444444,
              "#bd3786"
             ],
             [
              0.5555555555555556,
              "#d8576b"
             ],
             [
              0.6666666666666666,
              "#ed7953"
             ],
             [
              0.7777777777777778,
              "#fb9f3a"
             ],
             [
              0.8888888888888888,
              "#fdca26"
             ],
             [
              1,
              "#f0f921"
             ]
            ],
            "type": "histogram2dcontour"
           }
          ],
          "mesh3d": [
           {
            "colorbar": {
             "outlinewidth": 0,
             "ticks": ""
            },
            "type": "mesh3d"
           }
          ],
          "parcoords": [
           {
            "line": {
             "colorbar": {
              "outlinewidth": 0,
              "ticks": ""
             }
            },
            "type": "parcoords"
           }
          ],
          "pie": [
           {
            "automargin": true,
            "type": "pie"
           }
          ],
          "scatter": [
           {
            "marker": {
             "colorbar": {
              "outlinewidth": 0,
              "ticks": ""
             }
            },
            "type": "scatter"
           }
          ],
          "scatter3d": [
           {
            "line": {
             "colorbar": {
              "outlinewidth": 0,
              "ticks": ""
             }
            },
            "marker": {
             "colorbar": {
              "outlinewidth": 0,
              "ticks": ""
             }
            },
            "type": "scatter3d"
           }
          ],
          "scattercarpet": [
           {
            "marker": {
             "colorbar": {
              "outlinewidth": 0,
              "ticks": ""
             }
            },
            "type": "scattercarpet"
           }
          ],
          "scattergeo": [
           {
            "marker": {
             "colorbar": {
              "outlinewidth": 0,
              "ticks": ""
             }
            },
            "type": "scattergeo"
           }
          ],
          "scattergl": [
           {
            "marker": {
             "colorbar": {
              "outlinewidth": 0,
              "ticks": ""
             }
            },
            "type": "scattergl"
           }
          ],
          "scattermapbox": [
           {
            "marker": {
             "colorbar": {
              "outlinewidth": 0,
              "ticks": ""
             }
            },
            "type": "scattermapbox"
           }
          ],
          "scatterpolar": [
           {
            "marker": {
             "colorbar": {
              "outlinewidth": 0,
              "ticks": ""
             }
            },
            "type": "scatterpolar"
           }
          ],
          "scatterpolargl": [
           {
            "marker": {
             "colorbar": {
              "outlinewidth": 0,
              "ticks": ""
             }
            },
            "type": "scatterpolargl"
           }
          ],
          "scatterternary": [
           {
            "marker": {
             "colorbar": {
              "outlinewidth": 0,
              "ticks": ""
             }
            },
            "type": "scatterternary"
           }
          ],
          "surface": [
           {
            "colorbar": {
             "outlinewidth": 0,
             "ticks": ""
            },
            "colorscale": [
             [
              0,
              "#0d0887"
             ],
             [
              0.1111111111111111,
              "#46039f"
             ],
             [
              0.2222222222222222,
              "#7201a8"
             ],
             [
              0.3333333333333333,
              "#9c179e"
             ],
             [
              0.4444444444444444,
              "#bd3786"
             ],
             [
              0.5555555555555556,
              "#d8576b"
             ],
             [
              0.6666666666666666,
              "#ed7953"
             ],
             [
              0.7777777777777778,
              "#fb9f3a"
             ],
             [
              0.8888888888888888,
              "#fdca26"
             ],
             [
              1,
              "#f0f921"
             ]
            ],
            "type": "surface"
           }
          ],
          "table": [
           {
            "cells": {
             "fill": {
              "color": "#EBF0F8"
             },
             "line": {
              "color": "white"
             }
            },
            "header": {
             "fill": {
              "color": "#C8D4E3"
             },
             "line": {
              "color": "white"
             }
            },
            "type": "table"
           }
          ]
         },
         "layout": {
          "annotationdefaults": {
           "arrowcolor": "#2a3f5f",
           "arrowhead": 0,
           "arrowwidth": 1
          },
          "coloraxis": {
           "colorbar": {
            "outlinewidth": 0,
            "ticks": ""
           }
          },
          "colorscale": {
           "diverging": [
            [
             0,
             "#8e0152"
            ],
            [
             0.1,
             "#c51b7d"
            ],
            [
             0.2,
             "#de77ae"
            ],
            [
             0.3,
             "#f1b6da"
            ],
            [
             0.4,
             "#fde0ef"
            ],
            [
             0.5,
             "#f7f7f7"
            ],
            [
             0.6,
             "#e6f5d0"
            ],
            [
             0.7,
             "#b8e186"
            ],
            [
             0.8,
             "#7fbc41"
            ],
            [
             0.9,
             "#4d9221"
            ],
            [
             1,
             "#276419"
            ]
           ],
           "sequential": [
            [
             0,
             "#0d0887"
            ],
            [
             0.1111111111111111,
             "#46039f"
            ],
            [
             0.2222222222222222,
             "#7201a8"
            ],
            [
             0.3333333333333333,
             "#9c179e"
            ],
            [
             0.4444444444444444,
             "#bd3786"
            ],
            [
             0.5555555555555556,
             "#d8576b"
            ],
            [
             0.6666666666666666,
             "#ed7953"
            ],
            [
             0.7777777777777778,
             "#fb9f3a"
            ],
            [
             0.8888888888888888,
             "#fdca26"
            ],
            [
             1,
             "#f0f921"
            ]
           ],
           "sequentialminus": [
            [
             0,
             "#0d0887"
            ],
            [
             0.1111111111111111,
             "#46039f"
            ],
            [
             0.2222222222222222,
             "#7201a8"
            ],
            [
             0.3333333333333333,
             "#9c179e"
            ],
            [
             0.4444444444444444,
             "#bd3786"
            ],
            [
             0.5555555555555556,
             "#d8576b"
            ],
            [
             0.6666666666666666,
             "#ed7953"
            ],
            [
             0.7777777777777778,
             "#fb9f3a"
            ],
            [
             0.8888888888888888,
             "#fdca26"
            ],
            [
             1,
             "#f0f921"
            ]
           ]
          },
          "colorway": [
           "#636efa",
           "#EF553B",
           "#00cc96",
           "#ab63fa",
           "#FFA15A",
           "#19d3f3",
           "#FF6692",
           "#B6E880",
           "#FF97FF",
           "#FECB52"
          ],
          "font": {
           "color": "#2a3f5f"
          },
          "geo": {
           "bgcolor": "white",
           "lakecolor": "white",
           "landcolor": "#E5ECF6",
           "showlakes": true,
           "showland": true,
           "subunitcolor": "white"
          },
          "hoverlabel": {
           "align": "left"
          },
          "hovermode": "closest",
          "mapbox": {
           "style": "light"
          },
          "paper_bgcolor": "white",
          "plot_bgcolor": "#E5ECF6",
          "polar": {
           "angularaxis": {
            "gridcolor": "white",
            "linecolor": "white",
            "ticks": ""
           },
           "bgcolor": "#E5ECF6",
           "radialaxis": {
            "gridcolor": "white",
            "linecolor": "white",
            "ticks": ""
           }
          },
          "scene": {
           "xaxis": {
            "backgroundcolor": "#E5ECF6",
            "gridcolor": "white",
            "gridwidth": 2,
            "linecolor": "white",
            "showbackground": true,
            "ticks": "",
            "zerolinecolor": "white"
           },
           "yaxis": {
            "backgroundcolor": "#E5ECF6",
            "gridcolor": "white",
            "gridwidth": 2,
            "linecolor": "white",
            "showbackground": true,
            "ticks": "",
            "zerolinecolor": "white"
           },
           "zaxis": {
            "backgroundcolor": "#E5ECF6",
            "gridcolor": "white",
            "gridwidth": 2,
            "linecolor": "white",
            "showbackground": true,
            "ticks": "",
            "zerolinecolor": "white"
           }
          },
          "shapedefaults": {
           "line": {
            "color": "#2a3f5f"
           }
          },
          "ternary": {
           "aaxis": {
            "gridcolor": "white",
            "linecolor": "white",
            "ticks": ""
           },
           "baxis": {
            "gridcolor": "white",
            "linecolor": "white",
            "ticks": ""
           },
           "bgcolor": "#E5ECF6",
           "caxis": {
            "gridcolor": "white",
            "linecolor": "white",
            "ticks": ""
           }
          },
          "title": {
           "x": 0.05
          },
          "xaxis": {
           "automargin": true,
           "gridcolor": "white",
           "linecolor": "white",
           "ticks": "",
           "title": {
            "standoff": 15
           },
           "zerolinecolor": "white",
           "zerolinewidth": 2
          },
          "yaxis": {
           "automargin": true,
           "gridcolor": "white",
           "linecolor": "white",
           "ticks": "",
           "title": {
            "standoff": 15
           },
           "zerolinecolor": "white",
           "zerolinewidth": 2
          }
         }
        },
        "title": {
         "text": "Trend of Coronavirus Cases in India(Cumulative cases)"
        }
       }
      },
      "text/html": [
       "<div>\n",
       "        \n",
       "        \n",
       "            <div id=\"6ea4c9ca-7f1e-4786-bfa9-695d3ef7f7bb\" class=\"plotly-graph-div\" style=\"height:525px; width:100%;\"></div>\n",
       "            <script type=\"text/javascript\">\n",
       "                require([\"plotly\"], function(Plotly) {\n",
       "                    window.PLOTLYENV=window.PLOTLYENV || {};\n",
       "                    \n",
       "                if (document.getElementById(\"6ea4c9ca-7f1e-4786-bfa9-695d3ef7f7bb\")) {\n",
       "                    Plotly.newPlot(\n",
       "                        '6ea4c9ca-7f1e-4786-bfa9-695d3ef7f7bb',\n",
       "                        [{\"mode\": \"lines+markers\", \"name\": \"Total Cases\", \"type\": \"scatter\", \"x\": [\"2020-01-30\", \"2020-01-31\", \"2020-02-01\", \"2020-02-02\", \"2020-02-03\", \"2020-02-04\", \"2020-02-05\", \"2020-02-06\", \"2020-02-07\", \"2020-02-08\", \"2020-02-09\", \"2020-02-10\", \"2020-02-11\", \"2020-02-12\", \"2020-02-13\", \"2020-02-14\", \"2020-02-15\", \"2020-02-16\", \"2020-02-17\", \"2020-02-18\", \"2020-02-19\", \"2020-02-20\", \"2020-02-21\", \"2020-02-22\", \"2020-02-23\", \"2020-02-24\", \"2020-02-25\", \"2020-02-26\", \"2020-02-27\", \"2020-02-28\", \"2020-02-29\", \"2020-03-01\", \"2020-03-02\", \"2020-03-03\", \"2020-03-04\", \"2020-03-05\", \"2020-03-06\", \"2020-03-07\", \"2020-03-08\", \"2020-03-09\", \"2020-03-10\", \"2020-03-11\", \"2020-03-12\", \"2020-03-13\", \"2020-03-14\", \"2020-03-15\", \"2020-03-16\", \"2020-03-17\", \"2020-03-18\", \"2020-03-19\", \"2020-03-20\", \"2020-03-21\", \"2020-03-22\", \"2020-03-22\", \"2020-03-22\", \"2020-03-22\"], \"y\": [1, 1, 1, 2, 3, 3, 3, 3, 3, 3, 3, 3, 3, 3, 3, 3, 3, 3, 3, 3, 3, 3, 3, 3, 3, 3, 3, 3, 3, 3, 3, 3, 6, 9, 32, 33, 34, 37, 43, 50, 65, 65, 77, 85, 100, 110, 114, 140, 170, 198, 249, 329, 390, 390, 390, 390]}, {\"mode\": \"lines\", \"name\": \"Recovered\", \"type\": \"scatter\", \"x\": [\"2020-01-30\", \"2020-01-31\", \"2020-02-01\", \"2020-02-02\", \"2020-02-03\", \"2020-02-04\", \"2020-02-05\", \"2020-02-06\", \"2020-02-07\", \"2020-02-08\", \"2020-02-09\", \"2020-02-10\", \"2020-02-11\", \"2020-02-12\", \"2020-02-13\", \"2020-02-14\", \"2020-02-15\", \"2020-02-16\", \"2020-02-17\", \"2020-02-18\", \"2020-02-19\", \"2020-02-20\", \"2020-02-21\", \"2020-02-22\", \"2020-02-23\", \"2020-02-24\", \"2020-02-25\", \"2020-02-26\", \"2020-02-27\", \"2020-02-28\", \"2020-02-29\", \"2020-03-01\", \"2020-03-02\", \"2020-03-03\", \"2020-03-04\", \"2020-03-05\", \"2020-03-06\", \"2020-03-07\", \"2020-03-08\", \"2020-03-09\", \"2020-03-10\", \"2020-03-11\", \"2020-03-12\", \"2020-03-13\", \"2020-03-14\", \"2020-03-15\", \"2020-03-16\", \"2020-03-17\", \"2020-03-18\", \"2020-03-19\", \"2020-03-20\", \"2020-03-21\", \"2020-03-22\", \"2020-03-22\", \"2020-03-22\", \"2020-03-22\"], \"y\": [0, 0, 0, 0, 0, 0, 0, 0, 0, 0, 0, 0, 0, 0, 0, 0, 0, 0, 0, 0, 0, 0, 0, 0, 0, 0, 0, 0, 0, 0, 0, 0, 3, 3, 3, 3, 3, 3, 3, 3, 4, 4, 4, 10, 10, 13, 13, 14, 14, 14, 22, 23, 24, 24, 24, 24]}, {\"mode\": \"lines\", \"name\": \"Active\", \"type\": \"scatter\", \"x\": [\"2020-01-30\", \"2020-01-31\", \"2020-02-01\", \"2020-02-02\", \"2020-02-03\", \"2020-02-04\", \"2020-02-05\", \"2020-02-06\", \"2020-02-07\", \"2020-02-08\", \"2020-02-09\", \"2020-02-10\", \"2020-02-11\", \"2020-02-12\", \"2020-02-13\", \"2020-02-14\", \"2020-02-15\", \"2020-02-16\", \"2020-02-17\", \"2020-02-18\", \"2020-02-19\", \"2020-02-20\", \"2020-02-21\", \"2020-02-22\", \"2020-02-23\", \"2020-02-24\", \"2020-02-25\", \"2020-02-26\", \"2020-02-27\", \"2020-02-28\", \"2020-02-29\", \"2020-03-01\", \"2020-03-02\", \"2020-03-03\", \"2020-03-04\", \"2020-03-05\", \"2020-03-06\", \"2020-03-07\", \"2020-03-08\", \"2020-03-09\", \"2020-03-10\", \"2020-03-11\", \"2020-03-12\", \"2020-03-13\", \"2020-03-14\", \"2020-03-15\", \"2020-03-16\", \"2020-03-17\", \"2020-03-18\", \"2020-03-19\", \"2020-03-20\", \"2020-03-21\", \"2020-03-22\", \"2020-03-22\", \"2020-03-22\", \"2020-03-22\"], \"y\": [1, 1, 1, 2, 3, 3, 3, 3, 3, 3, 3, 3, 3, 3, 3, 3, 3, 3, 3, 3, 3, 3, 3, 3, 3, 3, 3, 3, 3, 3, 3, 3, 3, 6, 29, 30, 31, 34, 40, 47, 61, 61, 72, 73, 88, 95, 99, 123, 153, 181, 223, 301, 359, 359, 359, 359]}, {\"mode\": \"lines\", \"name\": \"Deaths\", \"type\": \"scatter\", \"x\": [\"2020-01-30\", \"2020-01-31\", \"2020-02-01\", \"2020-02-02\", \"2020-02-03\", \"2020-02-04\", \"2020-02-05\", \"2020-02-06\", \"2020-02-07\", \"2020-02-08\", \"2020-02-09\", \"2020-02-10\", \"2020-02-11\", \"2020-02-12\", \"2020-02-13\", \"2020-02-14\", \"2020-02-15\", \"2020-02-16\", \"2020-02-17\", \"2020-02-18\", \"2020-02-19\", \"2020-02-20\", \"2020-02-21\", \"2020-02-22\", \"2020-02-23\", \"2020-02-24\", \"2020-02-25\", \"2020-02-26\", \"2020-02-27\", \"2020-02-28\", \"2020-02-29\", \"2020-03-01\", \"2020-03-02\", \"2020-03-03\", \"2020-03-04\", \"2020-03-05\", \"2020-03-06\", \"2020-03-07\", \"2020-03-08\", \"2020-03-09\", \"2020-03-10\", \"2020-03-11\", \"2020-03-12\", \"2020-03-13\", \"2020-03-14\", \"2020-03-15\", \"2020-03-16\", \"2020-03-17\", \"2020-03-18\", \"2020-03-19\", \"2020-03-20\", \"2020-03-21\", \"2020-03-22\", \"2020-03-22\", \"2020-03-22\", \"2020-03-22\"], \"y\": [0, 0, 0, 0, 0, 0, 0, 0, 0, 0, 0, 0, 0, 0, 0, 0, 0, 0, 0, 0, 0, 0, 0, 0, 0, 0, 0, 0, 0, 0, 0, 0, 0, 0, 0, 0, 0, 0, 0, 0, 0, 0, 1, 2, 2, 2, 2, 2, 3, 3, 4, 4, 7, 7, 7, 7]}],\n",
       "                        {\"plot_bgcolor\": \"rgb(250, 242, 242)\", \"template\": {\"data\": {\"bar\": [{\"error_x\": {\"color\": \"#2a3f5f\"}, \"error_y\": {\"color\": \"#2a3f5f\"}, \"marker\": {\"line\": {\"color\": \"#E5ECF6\", \"width\": 0.5}}, \"type\": \"bar\"}], \"barpolar\": [{\"marker\": {\"line\": {\"color\": \"#E5ECF6\", \"width\": 0.5}}, \"type\": \"barpolar\"}], \"carpet\": [{\"aaxis\": {\"endlinecolor\": \"#2a3f5f\", \"gridcolor\": \"white\", \"linecolor\": \"white\", \"minorgridcolor\": \"white\", \"startlinecolor\": \"#2a3f5f\"}, \"baxis\": {\"endlinecolor\": \"#2a3f5f\", \"gridcolor\": \"white\", \"linecolor\": \"white\", \"minorgridcolor\": \"white\", \"startlinecolor\": \"#2a3f5f\"}, \"type\": \"carpet\"}], \"choropleth\": [{\"colorbar\": {\"outlinewidth\": 0, \"ticks\": \"\"}, \"type\": \"choropleth\"}], \"contour\": [{\"colorbar\": {\"outlinewidth\": 0, \"ticks\": \"\"}, \"colorscale\": [[0.0, \"#0d0887\"], [0.1111111111111111, \"#46039f\"], [0.2222222222222222, \"#7201a8\"], [0.3333333333333333, \"#9c179e\"], [0.4444444444444444, \"#bd3786\"], [0.5555555555555556, \"#d8576b\"], [0.6666666666666666, \"#ed7953\"], [0.7777777777777778, \"#fb9f3a\"], [0.8888888888888888, \"#fdca26\"], [1.0, \"#f0f921\"]], \"type\": \"contour\"}], \"contourcarpet\": [{\"colorbar\": {\"outlinewidth\": 0, \"ticks\": \"\"}, \"type\": \"contourcarpet\"}], \"heatmap\": [{\"colorbar\": {\"outlinewidth\": 0, \"ticks\": \"\"}, \"colorscale\": [[0.0, \"#0d0887\"], [0.1111111111111111, \"#46039f\"], [0.2222222222222222, \"#7201a8\"], [0.3333333333333333, \"#9c179e\"], [0.4444444444444444, \"#bd3786\"], [0.5555555555555556, \"#d8576b\"], [0.6666666666666666, \"#ed7953\"], [0.7777777777777778, \"#fb9f3a\"], [0.8888888888888888, \"#fdca26\"], [1.0, \"#f0f921\"]], \"type\": \"heatmap\"}], \"heatmapgl\": [{\"colorbar\": {\"outlinewidth\": 0, \"ticks\": \"\"}, \"colorscale\": [[0.0, \"#0d0887\"], [0.1111111111111111, \"#46039f\"], [0.2222222222222222, \"#7201a8\"], [0.3333333333333333, \"#9c179e\"], [0.4444444444444444, \"#bd3786\"], [0.5555555555555556, \"#d8576b\"], [0.6666666666666666, \"#ed7953\"], [0.7777777777777778, \"#fb9f3a\"], [0.8888888888888888, \"#fdca26\"], [1.0, \"#f0f921\"]], \"type\": \"heatmapgl\"}], \"histogram\": [{\"marker\": {\"colorbar\": {\"outlinewidth\": 0, \"ticks\": \"\"}}, \"type\": \"histogram\"}], \"histogram2d\": [{\"colorbar\": {\"outlinewidth\": 0, \"ticks\": \"\"}, \"colorscale\": [[0.0, \"#0d0887\"], [0.1111111111111111, \"#46039f\"], [0.2222222222222222, \"#7201a8\"], [0.3333333333333333, \"#9c179e\"], [0.4444444444444444, \"#bd3786\"], [0.5555555555555556, \"#d8576b\"], [0.6666666666666666, \"#ed7953\"], [0.7777777777777778, \"#fb9f3a\"], [0.8888888888888888, \"#fdca26\"], [1.0, \"#f0f921\"]], \"type\": \"histogram2d\"}], \"histogram2dcontour\": [{\"colorbar\": {\"outlinewidth\": 0, \"ticks\": \"\"}, \"colorscale\": [[0.0, \"#0d0887\"], [0.1111111111111111, \"#46039f\"], [0.2222222222222222, \"#7201a8\"], [0.3333333333333333, \"#9c179e\"], [0.4444444444444444, \"#bd3786\"], [0.5555555555555556, \"#d8576b\"], [0.6666666666666666, \"#ed7953\"], [0.7777777777777778, \"#fb9f3a\"], [0.8888888888888888, \"#fdca26\"], [1.0, \"#f0f921\"]], \"type\": \"histogram2dcontour\"}], \"mesh3d\": [{\"colorbar\": {\"outlinewidth\": 0, \"ticks\": \"\"}, \"type\": \"mesh3d\"}], \"parcoords\": [{\"line\": {\"colorbar\": {\"outlinewidth\": 0, \"ticks\": \"\"}}, \"type\": \"parcoords\"}], \"pie\": [{\"automargin\": true, \"type\": \"pie\"}], \"scatter\": [{\"marker\": {\"colorbar\": {\"outlinewidth\": 0, \"ticks\": \"\"}}, \"type\": \"scatter\"}], \"scatter3d\": [{\"line\": {\"colorbar\": {\"outlinewidth\": 0, \"ticks\": \"\"}}, \"marker\": {\"colorbar\": {\"outlinewidth\": 0, \"ticks\": \"\"}}, \"type\": \"scatter3d\"}], \"scattercarpet\": [{\"marker\": {\"colorbar\": {\"outlinewidth\": 0, \"ticks\": \"\"}}, \"type\": \"scattercarpet\"}], \"scattergeo\": [{\"marker\": {\"colorbar\": {\"outlinewidth\": 0, \"ticks\": \"\"}}, \"type\": \"scattergeo\"}], \"scattergl\": [{\"marker\": {\"colorbar\": {\"outlinewidth\": 0, \"ticks\": \"\"}}, \"type\": \"scattergl\"}], \"scattermapbox\": [{\"marker\": {\"colorbar\": {\"outlinewidth\": 0, \"ticks\": \"\"}}, \"type\": \"scattermapbox\"}], \"scatterpolar\": [{\"marker\": {\"colorbar\": {\"outlinewidth\": 0, \"ticks\": \"\"}}, \"type\": \"scatterpolar\"}], \"scatterpolargl\": [{\"marker\": {\"colorbar\": {\"outlinewidth\": 0, \"ticks\": \"\"}}, \"type\": \"scatterpolargl\"}], \"scatterternary\": [{\"marker\": {\"colorbar\": {\"outlinewidth\": 0, \"ticks\": \"\"}}, \"type\": \"scatterternary\"}], \"surface\": [{\"colorbar\": {\"outlinewidth\": 0, \"ticks\": \"\"}, \"colorscale\": [[0.0, \"#0d0887\"], [0.1111111111111111, \"#46039f\"], [0.2222222222222222, \"#7201a8\"], [0.3333333333333333, \"#9c179e\"], [0.4444444444444444, \"#bd3786\"], [0.5555555555555556, \"#d8576b\"], [0.6666666666666666, \"#ed7953\"], [0.7777777777777778, \"#fb9f3a\"], [0.8888888888888888, \"#fdca26\"], [1.0, \"#f0f921\"]], \"type\": \"surface\"}], \"table\": [{\"cells\": {\"fill\": {\"color\": \"#EBF0F8\"}, \"line\": {\"color\": \"white\"}}, \"header\": {\"fill\": {\"color\": \"#C8D4E3\"}, \"line\": {\"color\": \"white\"}}, \"type\": \"table\"}]}, \"layout\": {\"annotationdefaults\": {\"arrowcolor\": \"#2a3f5f\", \"arrowhead\": 0, \"arrowwidth\": 1}, \"coloraxis\": {\"colorbar\": {\"outlinewidth\": 0, \"ticks\": \"\"}}, \"colorscale\": {\"diverging\": [[0, \"#8e0152\"], [0.1, \"#c51b7d\"], [0.2, \"#de77ae\"], [0.3, \"#f1b6da\"], [0.4, \"#fde0ef\"], [0.5, \"#f7f7f7\"], [0.6, \"#e6f5d0\"], [0.7, \"#b8e186\"], [0.8, \"#7fbc41\"], [0.9, \"#4d9221\"], [1, \"#276419\"]], \"sequential\": [[0.0, \"#0d0887\"], [0.1111111111111111, \"#46039f\"], [0.2222222222222222, \"#7201a8\"], [0.3333333333333333, \"#9c179e\"], [0.4444444444444444, \"#bd3786\"], [0.5555555555555556, \"#d8576b\"], [0.6666666666666666, \"#ed7953\"], [0.7777777777777778, \"#fb9f3a\"], [0.8888888888888888, \"#fdca26\"], [1.0, \"#f0f921\"]], \"sequentialminus\": [[0.0, \"#0d0887\"], [0.1111111111111111, \"#46039f\"], [0.2222222222222222, \"#7201a8\"], [0.3333333333333333, \"#9c179e\"], [0.4444444444444444, \"#bd3786\"], [0.5555555555555556, \"#d8576b\"], [0.6666666666666666, \"#ed7953\"], [0.7777777777777778, \"#fb9f3a\"], [0.8888888888888888, \"#fdca26\"], [1.0, \"#f0f921\"]]}, \"colorway\": [\"#636efa\", \"#EF553B\", \"#00cc96\", \"#ab63fa\", \"#FFA15A\", \"#19d3f3\", \"#FF6692\", \"#B6E880\", \"#FF97FF\", \"#FECB52\"], \"font\": {\"color\": \"#2a3f5f\"}, \"geo\": {\"bgcolor\": \"white\", \"lakecolor\": \"white\", \"landcolor\": \"#E5ECF6\", \"showlakes\": true, \"showland\": true, \"subunitcolor\": \"white\"}, \"hoverlabel\": {\"align\": \"left\"}, \"hovermode\": \"closest\", \"mapbox\": {\"style\": \"light\"}, \"paper_bgcolor\": \"white\", \"plot_bgcolor\": \"#E5ECF6\", \"polar\": {\"angularaxis\": {\"gridcolor\": \"white\", \"linecolor\": \"white\", \"ticks\": \"\"}, \"bgcolor\": \"#E5ECF6\", \"radialaxis\": {\"gridcolor\": \"white\", \"linecolor\": \"white\", \"ticks\": \"\"}}, \"scene\": {\"xaxis\": {\"backgroundcolor\": \"#E5ECF6\", \"gridcolor\": \"white\", \"gridwidth\": 2, \"linecolor\": \"white\", \"showbackground\": true, \"ticks\": \"\", \"zerolinecolor\": \"white\"}, \"yaxis\": {\"backgroundcolor\": \"#E5ECF6\", \"gridcolor\": \"white\", \"gridwidth\": 2, \"linecolor\": \"white\", \"showbackground\": true, \"ticks\": \"\", \"zerolinecolor\": \"white\"}, \"zaxis\": {\"backgroundcolor\": \"#E5ECF6\", \"gridcolor\": \"white\", \"gridwidth\": 2, \"linecolor\": \"white\", \"showbackground\": true, \"ticks\": \"\", \"zerolinecolor\": \"white\"}}, \"shapedefaults\": {\"line\": {\"color\": \"#2a3f5f\"}}, \"ternary\": {\"aaxis\": {\"gridcolor\": \"white\", \"linecolor\": \"white\", \"ticks\": \"\"}, \"baxis\": {\"gridcolor\": \"white\", \"linecolor\": \"white\", \"ticks\": \"\"}, \"bgcolor\": \"#E5ECF6\", \"caxis\": {\"gridcolor\": \"white\", \"linecolor\": \"white\", \"ticks\": \"\"}}, \"title\": {\"x\": 0.05}, \"xaxis\": {\"automargin\": true, \"gridcolor\": \"white\", \"linecolor\": \"white\", \"ticks\": \"\", \"title\": {\"standoff\": 15}, \"zerolinecolor\": \"white\", \"zerolinewidth\": 2}, \"yaxis\": {\"automargin\": true, \"gridcolor\": \"white\", \"linecolor\": \"white\", \"ticks\": \"\", \"title\": {\"standoff\": 15}, \"zerolinecolor\": \"white\", \"zerolinewidth\": 2}}}, \"title\": {\"text\": \"Trend of Coronavirus Cases in India(Cumulative cases)\"}},\n",
       "                        {\"responsive\": true}\n",
       "                    ).then(function(){\n",
       "                            \n",
       "var gd = document.getElementById('6ea4c9ca-7f1e-4786-bfa9-695d3ef7f7bb');\n",
       "var x = new MutationObserver(function (mutations, observer) {{\n",
       "        var display = window.getComputedStyle(gd).display;\n",
       "        if (!display || display === 'none') {{\n",
       "            console.log([gd, 'removed!']);\n",
       "            Plotly.purge(gd);\n",
       "            observer.disconnect();\n",
       "        }}\n",
       "}});\n",
       "\n",
       "// Listen for the removal of the full notebook cells\n",
       "var notebookContainer = gd.closest('#notebook-container');\n",
       "if (notebookContainer) {{\n",
       "    x.observe(notebookContainer, {childList: true});\n",
       "}}\n",
       "\n",
       "// Listen for the clearing of the current output cell\n",
       "var outputEl = gd.closest('.output');\n",
       "if (outputEl) {{\n",
       "    x.observe(outputEl, {childList: true});\n",
       "}}\n",
       "\n",
       "                        })\n",
       "                };\n",
       "                });\n",
       "            </script>\n",
       "        </div>"
      ]
     },
     "metadata": {},
     "output_type": "display_data"
    }
   ],
   "source": [
    "# Rise in COVID-19 cases in India\n",
    "fig = go.Figure()\n",
    "fig.add_trace(go.Scatter(x=dbd_India['Date'], y=dbd_India['Total Cases'],\n",
    "                    mode='lines+markers',name='Total Cases'))\n",
    "\n",
    "fig.add_trace(go.Scatter(x=dbd_India['Date'], y=dbd_India['Recovered'], \n",
    "                mode='lines',name='Recovered'))\n",
    "fig.add_trace(go.Scatter(x=dbd_India['Date'], y=dbd_India['Active'], \n",
    "                mode='lines',name='Active'))\n",
    "fig.add_trace(go.Scatter(x=dbd_India['Date'], y=dbd_India['Deaths'], \n",
    "                mode='lines',name='Deaths'))\n",
    "        \n",
    "    \n",
    "fig.update_layout(title_text='Trend of Coronavirus Cases in India(Cumulative cases)',plot_bgcolor='rgb(250, 242, 242)')\n",
    "\n",
    "fig.show()\n",
    "\n",
    "trends = json.dumps(fig, cls=plotly.utils.PlotlyJSONEncoder)\n"
   ]
  },
  {
   "cell_type": "code",
   "execution_count": 19,
   "metadata": {},
   "outputs": [
    {
     "data": {
      "application/vnd.plotly.v1+json": {
       "config": {
        "plotlyServerURL": "https://plot.ly"
       },
       "data": [
        {
         "alignmentgroup": "True",
         "hoverlabel": {
          "namelength": 0
         },
         "hovertemplate": "Date=%{x}<br>New Cases=%{y}",
         "legendgroup": "",
         "marker": {
          "color": "#636efa"
         },
         "name": "",
         "offsetgroup": "",
         "orientation": "v",
         "showlegend": false,
         "textposition": "auto",
         "type": "bar",
         "x": [
          "2020-01-30",
          "2020-01-31",
          "2020-02-01",
          "2020-02-02",
          "2020-02-03",
          "2020-02-04",
          "2020-02-05",
          "2020-02-06",
          "2020-02-07",
          "2020-02-08",
          "2020-02-09",
          "2020-02-10",
          "2020-02-11",
          "2020-02-12",
          "2020-02-13",
          "2020-02-14",
          "2020-02-15",
          "2020-02-16",
          "2020-02-17",
          "2020-02-18",
          "2020-02-19",
          "2020-02-20",
          "2020-02-21",
          "2020-02-22",
          "2020-02-23",
          "2020-02-24",
          "2020-02-25",
          "2020-02-26",
          "2020-02-27",
          "2020-02-28",
          "2020-02-29",
          "2020-03-01",
          "2020-03-02",
          "2020-03-03",
          "2020-03-04",
          "2020-03-05",
          "2020-03-06",
          "2020-03-07",
          "2020-03-08",
          "2020-03-09",
          "2020-03-10",
          "2020-03-11",
          "2020-03-12",
          "2020-03-13",
          "2020-03-14",
          "2020-03-15",
          "2020-03-16",
          "2020-03-17",
          "2020-03-18",
          "2020-03-19",
          "2020-03-20",
          "2020-03-21",
          "2020-03-22",
          "2020-03-22",
          "2020-03-22",
          "2020-03-22"
         ],
         "xaxis": "x",
         "y": [
          1,
          0,
          0,
          1,
          1,
          0,
          0,
          0,
          0,
          0,
          0,
          0,
          0,
          0,
          0,
          0,
          0,
          0,
          0,
          0,
          0,
          0,
          0,
          0,
          0,
          0,
          0,
          0,
          0,
          0,
          0,
          0,
          3,
          3,
          23,
          1,
          1,
          3,
          6,
          7,
          15,
          0,
          12,
          8,
          15,
          10,
          4,
          26,
          30,
          28,
          51,
          80,
          61,
          0,
          0,
          0
         ],
         "yaxis": "y"
        }
       ],
       "layout": {
        "barmode": "group",
        "height": 500,
        "legend": {
         "tracegroupgap": 0
        },
        "margin": {
         "t": 60
        },
        "plot_bgcolor": "rgb(250, 242, 242)",
        "template": {
         "data": {
          "bar": [
           {
            "error_x": {
             "color": "#2a3f5f"
            },
            "error_y": {
             "color": "#2a3f5f"
            },
            "marker": {
             "line": {
              "color": "#E5ECF6",
              "width": 0.5
             }
            },
            "type": "bar"
           }
          ],
          "barpolar": [
           {
            "marker": {
             "line": {
              "color": "#E5ECF6",
              "width": 0.5
             }
            },
            "type": "barpolar"
           }
          ],
          "carpet": [
           {
            "aaxis": {
             "endlinecolor": "#2a3f5f",
             "gridcolor": "white",
             "linecolor": "white",
             "minorgridcolor": "white",
             "startlinecolor": "#2a3f5f"
            },
            "baxis": {
             "endlinecolor": "#2a3f5f",
             "gridcolor": "white",
             "linecolor": "white",
             "minorgridcolor": "white",
             "startlinecolor": "#2a3f5f"
            },
            "type": "carpet"
           }
          ],
          "choropleth": [
           {
            "colorbar": {
             "outlinewidth": 0,
             "ticks": ""
            },
            "type": "choropleth"
           }
          ],
          "contour": [
           {
            "colorbar": {
             "outlinewidth": 0,
             "ticks": ""
            },
            "colorscale": [
             [
              0,
              "#0d0887"
             ],
             [
              0.1111111111111111,
              "#46039f"
             ],
             [
              0.2222222222222222,
              "#7201a8"
             ],
             [
              0.3333333333333333,
              "#9c179e"
             ],
             [
              0.4444444444444444,
              "#bd3786"
             ],
             [
              0.5555555555555556,
              "#d8576b"
             ],
             [
              0.6666666666666666,
              "#ed7953"
             ],
             [
              0.7777777777777778,
              "#fb9f3a"
             ],
             [
              0.8888888888888888,
              "#fdca26"
             ],
             [
              1,
              "#f0f921"
             ]
            ],
            "type": "contour"
           }
          ],
          "contourcarpet": [
           {
            "colorbar": {
             "outlinewidth": 0,
             "ticks": ""
            },
            "type": "contourcarpet"
           }
          ],
          "heatmap": [
           {
            "colorbar": {
             "outlinewidth": 0,
             "ticks": ""
            },
            "colorscale": [
             [
              0,
              "#0d0887"
             ],
             [
              0.1111111111111111,
              "#46039f"
             ],
             [
              0.2222222222222222,
              "#7201a8"
             ],
             [
              0.3333333333333333,
              "#9c179e"
             ],
             [
              0.4444444444444444,
              "#bd3786"
             ],
             [
              0.5555555555555556,
              "#d8576b"
             ],
             [
              0.6666666666666666,
              "#ed7953"
             ],
             [
              0.7777777777777778,
              "#fb9f3a"
             ],
             [
              0.8888888888888888,
              "#fdca26"
             ],
             [
              1,
              "#f0f921"
             ]
            ],
            "type": "heatmap"
           }
          ],
          "heatmapgl": [
           {
            "colorbar": {
             "outlinewidth": 0,
             "ticks": ""
            },
            "colorscale": [
             [
              0,
              "#0d0887"
             ],
             [
              0.1111111111111111,
              "#46039f"
             ],
             [
              0.2222222222222222,
              "#7201a8"
             ],
             [
              0.3333333333333333,
              "#9c179e"
             ],
             [
              0.4444444444444444,
              "#bd3786"
             ],
             [
              0.5555555555555556,
              "#d8576b"
             ],
             [
              0.6666666666666666,
              "#ed7953"
             ],
             [
              0.7777777777777778,
              "#fb9f3a"
             ],
             [
              0.8888888888888888,
              "#fdca26"
             ],
             [
              1,
              "#f0f921"
             ]
            ],
            "type": "heatmapgl"
           }
          ],
          "histogram": [
           {
            "marker": {
             "colorbar": {
              "outlinewidth": 0,
              "ticks": ""
             }
            },
            "type": "histogram"
           }
          ],
          "histogram2d": [
           {
            "colorbar": {
             "outlinewidth": 0,
             "ticks": ""
            },
            "colorscale": [
             [
              0,
              "#0d0887"
             ],
             [
              0.1111111111111111,
              "#46039f"
             ],
             [
              0.2222222222222222,
              "#7201a8"
             ],
             [
              0.3333333333333333,
              "#9c179e"
             ],
             [
              0.4444444444444444,
              "#bd3786"
             ],
             [
              0.5555555555555556,
              "#d8576b"
             ],
             [
              0.6666666666666666,
              "#ed7953"
             ],
             [
              0.7777777777777778,
              "#fb9f3a"
             ],
             [
              0.8888888888888888,
              "#fdca26"
             ],
             [
              1,
              "#f0f921"
             ]
            ],
            "type": "histogram2d"
           }
          ],
          "histogram2dcontour": [
           {
            "colorbar": {
             "outlinewidth": 0,
             "ticks": ""
            },
            "colorscale": [
             [
              0,
              "#0d0887"
             ],
             [
              0.1111111111111111,
              "#46039f"
             ],
             [
              0.2222222222222222,
              "#7201a8"
             ],
             [
              0.3333333333333333,
              "#9c179e"
             ],
             [
              0.4444444444444444,
              "#bd3786"
             ],
             [
              0.5555555555555556,
              "#d8576b"
             ],
             [
              0.6666666666666666,
              "#ed7953"
             ],
             [
              0.7777777777777778,
              "#fb9f3a"
             ],
             [
              0.8888888888888888,
              "#fdca26"
             ],
             [
              1,
              "#f0f921"
             ]
            ],
            "type": "histogram2dcontour"
           }
          ],
          "mesh3d": [
           {
            "colorbar": {
             "outlinewidth": 0,
             "ticks": ""
            },
            "type": "mesh3d"
           }
          ],
          "parcoords": [
           {
            "line": {
             "colorbar": {
              "outlinewidth": 0,
              "ticks": ""
             }
            },
            "type": "parcoords"
           }
          ],
          "pie": [
           {
            "automargin": true,
            "type": "pie"
           }
          ],
          "scatter": [
           {
            "marker": {
             "colorbar": {
              "outlinewidth": 0,
              "ticks": ""
             }
            },
            "type": "scatter"
           }
          ],
          "scatter3d": [
           {
            "line": {
             "colorbar": {
              "outlinewidth": 0,
              "ticks": ""
             }
            },
            "marker": {
             "colorbar": {
              "outlinewidth": 0,
              "ticks": ""
             }
            },
            "type": "scatter3d"
           }
          ],
          "scattercarpet": [
           {
            "marker": {
             "colorbar": {
              "outlinewidth": 0,
              "ticks": ""
             }
            },
            "type": "scattercarpet"
           }
          ],
          "scattergeo": [
           {
            "marker": {
             "colorbar": {
              "outlinewidth": 0,
              "ticks": ""
             }
            },
            "type": "scattergeo"
           }
          ],
          "scattergl": [
           {
            "marker": {
             "colorbar": {
              "outlinewidth": 0,
              "ticks": ""
             }
            },
            "type": "scattergl"
           }
          ],
          "scattermapbox": [
           {
            "marker": {
             "colorbar": {
              "outlinewidth": 0,
              "ticks": ""
             }
            },
            "type": "scattermapbox"
           }
          ],
          "scatterpolar": [
           {
            "marker": {
             "colorbar": {
              "outlinewidth": 0,
              "ticks": ""
             }
            },
            "type": "scatterpolar"
           }
          ],
          "scatterpolargl": [
           {
            "marker": {
             "colorbar": {
              "outlinewidth": 0,
              "ticks": ""
             }
            },
            "type": "scatterpolargl"
           }
          ],
          "scatterternary": [
           {
            "marker": {
             "colorbar": {
              "outlinewidth": 0,
              "ticks": ""
             }
            },
            "type": "scatterternary"
           }
          ],
          "surface": [
           {
            "colorbar": {
             "outlinewidth": 0,
             "ticks": ""
            },
            "colorscale": [
             [
              0,
              "#0d0887"
             ],
             [
              0.1111111111111111,
              "#46039f"
             ],
             [
              0.2222222222222222,
              "#7201a8"
             ],
             [
              0.3333333333333333,
              "#9c179e"
             ],
             [
              0.4444444444444444,
              "#bd3786"
             ],
             [
              0.5555555555555556,
              "#d8576b"
             ],
             [
              0.6666666666666666,
              "#ed7953"
             ],
             [
              0.7777777777777778,
              "#fb9f3a"
             ],
             [
              0.8888888888888888,
              "#fdca26"
             ],
             [
              1,
              "#f0f921"
             ]
            ],
            "type": "surface"
           }
          ],
          "table": [
           {
            "cells": {
             "fill": {
              "color": "#EBF0F8"
             },
             "line": {
              "color": "white"
             }
            },
            "header": {
             "fill": {
              "color": "#C8D4E3"
             },
             "line": {
              "color": "white"
             }
            },
            "type": "table"
           }
          ]
         },
         "layout": {
          "annotationdefaults": {
           "arrowcolor": "#2a3f5f",
           "arrowhead": 0,
           "arrowwidth": 1
          },
          "coloraxis": {
           "colorbar": {
            "outlinewidth": 0,
            "ticks": ""
           }
          },
          "colorscale": {
           "diverging": [
            [
             0,
             "#8e0152"
            ],
            [
             0.1,
             "#c51b7d"
            ],
            [
             0.2,
             "#de77ae"
            ],
            [
             0.3,
             "#f1b6da"
            ],
            [
             0.4,
             "#fde0ef"
            ],
            [
             0.5,
             "#f7f7f7"
            ],
            [
             0.6,
             "#e6f5d0"
            ],
            [
             0.7,
             "#b8e186"
            ],
            [
             0.8,
             "#7fbc41"
            ],
            [
             0.9,
             "#4d9221"
            ],
            [
             1,
             "#276419"
            ]
           ],
           "sequential": [
            [
             0,
             "#0d0887"
            ],
            [
             0.1111111111111111,
             "#46039f"
            ],
            [
             0.2222222222222222,
             "#7201a8"
            ],
            [
             0.3333333333333333,
             "#9c179e"
            ],
            [
             0.4444444444444444,
             "#bd3786"
            ],
            [
             0.5555555555555556,
             "#d8576b"
            ],
            [
             0.6666666666666666,
             "#ed7953"
            ],
            [
             0.7777777777777778,
             "#fb9f3a"
            ],
            [
             0.8888888888888888,
             "#fdca26"
            ],
            [
             1,
             "#f0f921"
            ]
           ],
           "sequentialminus": [
            [
             0,
             "#0d0887"
            ],
            [
             0.1111111111111111,
             "#46039f"
            ],
            [
             0.2222222222222222,
             "#7201a8"
            ],
            [
             0.3333333333333333,
             "#9c179e"
            ],
            [
             0.4444444444444444,
             "#bd3786"
            ],
            [
             0.5555555555555556,
             "#d8576b"
            ],
            [
             0.6666666666666666,
             "#ed7953"
            ],
            [
             0.7777777777777778,
             "#fb9f3a"
            ],
            [
             0.8888888888888888,
             "#fdca26"
            ],
            [
             1,
             "#f0f921"
            ]
           ]
          },
          "colorway": [
           "#636efa",
           "#EF553B",
           "#00cc96",
           "#ab63fa",
           "#FFA15A",
           "#19d3f3",
           "#FF6692",
           "#B6E880",
           "#FF97FF",
           "#FECB52"
          ],
          "font": {
           "color": "#2a3f5f"
          },
          "geo": {
           "bgcolor": "white",
           "lakecolor": "white",
           "landcolor": "#E5ECF6",
           "showlakes": true,
           "showland": true,
           "subunitcolor": "white"
          },
          "hoverlabel": {
           "align": "left"
          },
          "hovermode": "closest",
          "mapbox": {
           "style": "light"
          },
          "paper_bgcolor": "white",
          "plot_bgcolor": "#E5ECF6",
          "polar": {
           "angularaxis": {
            "gridcolor": "white",
            "linecolor": "white",
            "ticks": ""
           },
           "bgcolor": "#E5ECF6",
           "radialaxis": {
            "gridcolor": "white",
            "linecolor": "white",
            "ticks": ""
           }
          },
          "scene": {
           "xaxis": {
            "backgroundcolor": "#E5ECF6",
            "gridcolor": "white",
            "gridwidth": 2,
            "linecolor": "white",
            "showbackground": true,
            "ticks": "",
            "zerolinecolor": "white"
           },
           "yaxis": {
            "backgroundcolor": "#E5ECF6",
            "gridcolor": "white",
            "gridwidth": 2,
            "linecolor": "white",
            "showbackground": true,
            "ticks": "",
            "zerolinecolor": "white"
           },
           "zaxis": {
            "backgroundcolor": "#E5ECF6",
            "gridcolor": "white",
            "gridwidth": 2,
            "linecolor": "white",
            "showbackground": true,
            "ticks": "",
            "zerolinecolor": "white"
           }
          },
          "shapedefaults": {
           "line": {
            "color": "#2a3f5f"
           }
          },
          "ternary": {
           "aaxis": {
            "gridcolor": "white",
            "linecolor": "white",
            "ticks": ""
           },
           "baxis": {
            "gridcolor": "white",
            "linecolor": "white",
            "ticks": ""
           },
           "bgcolor": "#E5ECF6",
           "caxis": {
            "gridcolor": "white",
            "linecolor": "white",
            "ticks": ""
           }
          },
          "title": {
           "x": 0.05
          },
          "xaxis": {
           "automargin": true,
           "gridcolor": "white",
           "linecolor": "white",
           "ticks": "",
           "title": {
            "standoff": 15
           },
           "zerolinecolor": "white",
           "zerolinewidth": 2
          },
          "yaxis": {
           "automargin": true,
           "gridcolor": "white",
           "linecolor": "white",
           "ticks": "",
           "title": {
            "standoff": 15
           },
           "zerolinecolor": "white",
           "zerolinewidth": 2
          }
         }
        },
        "title": {
         "text": "New Coronavirus Cases in India per day"
        },
        "width": 900,
        "xaxis": {
         "anchor": "y",
         "domain": [
          0,
          1
         ],
         "title": {
          "text": "Date"
         }
        },
        "yaxis": {
         "anchor": "x",
         "domain": [
          0,
          1
         ],
         "title": {
          "text": "New Cases"
         }
        }
       }
      },
      "text/html": [
       "<div>\n",
       "        \n",
       "        \n",
       "            <div id=\"6313eb50-72ac-4aa9-98b1-7941786bb346\" class=\"plotly-graph-div\" style=\"height:500px; width:900px;\"></div>\n",
       "            <script type=\"text/javascript\">\n",
       "                require([\"plotly\"], function(Plotly) {\n",
       "                    window.PLOTLYENV=window.PLOTLYENV || {};\n",
       "                    \n",
       "                if (document.getElementById(\"6313eb50-72ac-4aa9-98b1-7941786bb346\")) {\n",
       "                    Plotly.newPlot(\n",
       "                        '6313eb50-72ac-4aa9-98b1-7941786bb346',\n",
       "                        [{\"alignmentgroup\": \"True\", \"hoverlabel\": {\"namelength\": 0}, \"hovertemplate\": \"Date=%{x}<br>New Cases=%{y}\", \"legendgroup\": \"\", \"marker\": {\"color\": \"#636efa\"}, \"name\": \"\", \"offsetgroup\": \"\", \"orientation\": \"v\", \"showlegend\": false, \"textposition\": \"auto\", \"type\": \"bar\", \"x\": [\"2020-01-30\", \"2020-01-31\", \"2020-02-01\", \"2020-02-02\", \"2020-02-03\", \"2020-02-04\", \"2020-02-05\", \"2020-02-06\", \"2020-02-07\", \"2020-02-08\", \"2020-02-09\", \"2020-02-10\", \"2020-02-11\", \"2020-02-12\", \"2020-02-13\", \"2020-02-14\", \"2020-02-15\", \"2020-02-16\", \"2020-02-17\", \"2020-02-18\", \"2020-02-19\", \"2020-02-20\", \"2020-02-21\", \"2020-02-22\", \"2020-02-23\", \"2020-02-24\", \"2020-02-25\", \"2020-02-26\", \"2020-02-27\", \"2020-02-28\", \"2020-02-29\", \"2020-03-01\", \"2020-03-02\", \"2020-03-03\", \"2020-03-04\", \"2020-03-05\", \"2020-03-06\", \"2020-03-07\", \"2020-03-08\", \"2020-03-09\", \"2020-03-10\", \"2020-03-11\", \"2020-03-12\", \"2020-03-13\", \"2020-03-14\", \"2020-03-15\", \"2020-03-16\", \"2020-03-17\", \"2020-03-18\", \"2020-03-19\", \"2020-03-20\", \"2020-03-21\", \"2020-03-22\", \"2020-03-22\", \"2020-03-22\", \"2020-03-22\"], \"xaxis\": \"x\", \"y\": [1, 0, 0, 1, 1, 0, 0, 0, 0, 0, 0, 0, 0, 0, 0, 0, 0, 0, 0, 0, 0, 0, 0, 0, 0, 0, 0, 0, 0, 0, 0, 0, 3, 3, 23, 1, 1, 3, 6, 7, 15, 0, 12, 8, 15, 10, 4, 26, 30, 28, 51, 80, 61, 0, 0, 0], \"yaxis\": \"y\"}],\n",
       "                        {\"barmode\": \"group\", \"height\": 500, \"legend\": {\"tracegroupgap\": 0}, \"margin\": {\"t\": 60}, \"plot_bgcolor\": \"rgb(250, 242, 242)\", \"template\": {\"data\": {\"bar\": [{\"error_x\": {\"color\": \"#2a3f5f\"}, \"error_y\": {\"color\": \"#2a3f5f\"}, \"marker\": {\"line\": {\"color\": \"#E5ECF6\", \"width\": 0.5}}, \"type\": \"bar\"}], \"barpolar\": [{\"marker\": {\"line\": {\"color\": \"#E5ECF6\", \"width\": 0.5}}, \"type\": \"barpolar\"}], \"carpet\": [{\"aaxis\": {\"endlinecolor\": \"#2a3f5f\", \"gridcolor\": \"white\", \"linecolor\": \"white\", \"minorgridcolor\": \"white\", \"startlinecolor\": \"#2a3f5f\"}, \"baxis\": {\"endlinecolor\": \"#2a3f5f\", \"gridcolor\": \"white\", \"linecolor\": \"white\", \"minorgridcolor\": \"white\", \"startlinecolor\": \"#2a3f5f\"}, \"type\": \"carpet\"}], \"choropleth\": [{\"colorbar\": {\"outlinewidth\": 0, \"ticks\": \"\"}, \"type\": \"choropleth\"}], \"contour\": [{\"colorbar\": {\"outlinewidth\": 0, \"ticks\": \"\"}, \"colorscale\": [[0.0, \"#0d0887\"], [0.1111111111111111, \"#46039f\"], [0.2222222222222222, \"#7201a8\"], [0.3333333333333333, \"#9c179e\"], [0.4444444444444444, \"#bd3786\"], [0.5555555555555556, \"#d8576b\"], [0.6666666666666666, \"#ed7953\"], [0.7777777777777778, \"#fb9f3a\"], [0.8888888888888888, \"#fdca26\"], [1.0, \"#f0f921\"]], \"type\": \"contour\"}], \"contourcarpet\": [{\"colorbar\": {\"outlinewidth\": 0, \"ticks\": \"\"}, \"type\": \"contourcarpet\"}], \"heatmap\": [{\"colorbar\": {\"outlinewidth\": 0, \"ticks\": \"\"}, \"colorscale\": [[0.0, \"#0d0887\"], [0.1111111111111111, \"#46039f\"], [0.2222222222222222, \"#7201a8\"], [0.3333333333333333, \"#9c179e\"], [0.4444444444444444, \"#bd3786\"], [0.5555555555555556, \"#d8576b\"], [0.6666666666666666, \"#ed7953\"], [0.7777777777777778, \"#fb9f3a\"], [0.8888888888888888, \"#fdca26\"], [1.0, \"#f0f921\"]], \"type\": \"heatmap\"}], \"heatmapgl\": [{\"colorbar\": {\"outlinewidth\": 0, \"ticks\": \"\"}, \"colorscale\": [[0.0, \"#0d0887\"], [0.1111111111111111, \"#46039f\"], [0.2222222222222222, \"#7201a8\"], [0.3333333333333333, \"#9c179e\"], [0.4444444444444444, \"#bd3786\"], [0.5555555555555556, \"#d8576b\"], [0.6666666666666666, \"#ed7953\"], [0.7777777777777778, \"#fb9f3a\"], [0.8888888888888888, \"#fdca26\"], [1.0, \"#f0f921\"]], \"type\": \"heatmapgl\"}], \"histogram\": [{\"marker\": {\"colorbar\": {\"outlinewidth\": 0, \"ticks\": \"\"}}, \"type\": \"histogram\"}], \"histogram2d\": [{\"colorbar\": {\"outlinewidth\": 0, \"ticks\": \"\"}, \"colorscale\": [[0.0, \"#0d0887\"], [0.1111111111111111, \"#46039f\"], [0.2222222222222222, \"#7201a8\"], [0.3333333333333333, \"#9c179e\"], [0.4444444444444444, \"#bd3786\"], [0.5555555555555556, \"#d8576b\"], [0.6666666666666666, \"#ed7953\"], [0.7777777777777778, \"#fb9f3a\"], [0.8888888888888888, \"#fdca26\"], [1.0, \"#f0f921\"]], \"type\": \"histogram2d\"}], \"histogram2dcontour\": [{\"colorbar\": {\"outlinewidth\": 0, \"ticks\": \"\"}, \"colorscale\": [[0.0, \"#0d0887\"], [0.1111111111111111, \"#46039f\"], [0.2222222222222222, \"#7201a8\"], [0.3333333333333333, \"#9c179e\"], [0.4444444444444444, \"#bd3786\"], [0.5555555555555556, \"#d8576b\"], [0.6666666666666666, \"#ed7953\"], [0.7777777777777778, \"#fb9f3a\"], [0.8888888888888888, \"#fdca26\"], [1.0, \"#f0f921\"]], \"type\": \"histogram2dcontour\"}], \"mesh3d\": [{\"colorbar\": {\"outlinewidth\": 0, \"ticks\": \"\"}, \"type\": \"mesh3d\"}], \"parcoords\": [{\"line\": {\"colorbar\": {\"outlinewidth\": 0, \"ticks\": \"\"}}, \"type\": \"parcoords\"}], \"pie\": [{\"automargin\": true, \"type\": \"pie\"}], \"scatter\": [{\"marker\": {\"colorbar\": {\"outlinewidth\": 0, \"ticks\": \"\"}}, \"type\": \"scatter\"}], \"scatter3d\": [{\"line\": {\"colorbar\": {\"outlinewidth\": 0, \"ticks\": \"\"}}, \"marker\": {\"colorbar\": {\"outlinewidth\": 0, \"ticks\": \"\"}}, \"type\": \"scatter3d\"}], \"scattercarpet\": [{\"marker\": {\"colorbar\": {\"outlinewidth\": 0, \"ticks\": \"\"}}, \"type\": \"scattercarpet\"}], \"scattergeo\": [{\"marker\": {\"colorbar\": {\"outlinewidth\": 0, \"ticks\": \"\"}}, \"type\": \"scattergeo\"}], \"scattergl\": [{\"marker\": {\"colorbar\": {\"outlinewidth\": 0, \"ticks\": \"\"}}, \"type\": \"scattergl\"}], \"scattermapbox\": [{\"marker\": {\"colorbar\": {\"outlinewidth\": 0, \"ticks\": \"\"}}, \"type\": \"scattermapbox\"}], \"scatterpolar\": [{\"marker\": {\"colorbar\": {\"outlinewidth\": 0, \"ticks\": \"\"}}, \"type\": \"scatterpolar\"}], \"scatterpolargl\": [{\"marker\": {\"colorbar\": {\"outlinewidth\": 0, \"ticks\": \"\"}}, \"type\": \"scatterpolargl\"}], \"scatterternary\": [{\"marker\": {\"colorbar\": {\"outlinewidth\": 0, \"ticks\": \"\"}}, \"type\": \"scatterternary\"}], \"surface\": [{\"colorbar\": {\"outlinewidth\": 0, \"ticks\": \"\"}, \"colorscale\": [[0.0, \"#0d0887\"], [0.1111111111111111, \"#46039f\"], [0.2222222222222222, \"#7201a8\"], [0.3333333333333333, \"#9c179e\"], [0.4444444444444444, \"#bd3786\"], [0.5555555555555556, \"#d8576b\"], [0.6666666666666666, \"#ed7953\"], [0.7777777777777778, \"#fb9f3a\"], [0.8888888888888888, \"#fdca26\"], [1.0, \"#f0f921\"]], \"type\": \"surface\"}], \"table\": [{\"cells\": {\"fill\": {\"color\": \"#EBF0F8\"}, \"line\": {\"color\": \"white\"}}, \"header\": {\"fill\": {\"color\": \"#C8D4E3\"}, \"line\": {\"color\": \"white\"}}, \"type\": \"table\"}]}, \"layout\": {\"annotationdefaults\": {\"arrowcolor\": \"#2a3f5f\", \"arrowhead\": 0, \"arrowwidth\": 1}, \"coloraxis\": {\"colorbar\": {\"outlinewidth\": 0, \"ticks\": \"\"}}, \"colorscale\": {\"diverging\": [[0, \"#8e0152\"], [0.1, \"#c51b7d\"], [0.2, \"#de77ae\"], [0.3, \"#f1b6da\"], [0.4, \"#fde0ef\"], [0.5, \"#f7f7f7\"], [0.6, \"#e6f5d0\"], [0.7, \"#b8e186\"], [0.8, \"#7fbc41\"], [0.9, \"#4d9221\"], [1, \"#276419\"]], \"sequential\": [[0.0, \"#0d0887\"], [0.1111111111111111, \"#46039f\"], [0.2222222222222222, \"#7201a8\"], [0.3333333333333333, \"#9c179e\"], [0.4444444444444444, \"#bd3786\"], [0.5555555555555556, \"#d8576b\"], [0.6666666666666666, \"#ed7953\"], [0.7777777777777778, \"#fb9f3a\"], [0.8888888888888888, \"#fdca26\"], [1.0, \"#f0f921\"]], \"sequentialminus\": [[0.0, \"#0d0887\"], [0.1111111111111111, \"#46039f\"], [0.2222222222222222, \"#7201a8\"], [0.3333333333333333, \"#9c179e\"], [0.4444444444444444, \"#bd3786\"], [0.5555555555555556, \"#d8576b\"], [0.6666666666666666, \"#ed7953\"], [0.7777777777777778, \"#fb9f3a\"], [0.8888888888888888, \"#fdca26\"], [1.0, \"#f0f921\"]]}, \"colorway\": [\"#636efa\", \"#EF553B\", \"#00cc96\", \"#ab63fa\", \"#FFA15A\", \"#19d3f3\", \"#FF6692\", \"#B6E880\", \"#FF97FF\", \"#FECB52\"], \"font\": {\"color\": \"#2a3f5f\"}, \"geo\": {\"bgcolor\": \"white\", \"lakecolor\": \"white\", \"landcolor\": \"#E5ECF6\", \"showlakes\": true, \"showland\": true, \"subunitcolor\": \"white\"}, \"hoverlabel\": {\"align\": \"left\"}, \"hovermode\": \"closest\", \"mapbox\": {\"style\": \"light\"}, \"paper_bgcolor\": \"white\", \"plot_bgcolor\": \"#E5ECF6\", \"polar\": {\"angularaxis\": {\"gridcolor\": \"white\", \"linecolor\": \"white\", \"ticks\": \"\"}, \"bgcolor\": \"#E5ECF6\", \"radialaxis\": {\"gridcolor\": \"white\", \"linecolor\": \"white\", \"ticks\": \"\"}}, \"scene\": {\"xaxis\": {\"backgroundcolor\": \"#E5ECF6\", \"gridcolor\": \"white\", \"gridwidth\": 2, \"linecolor\": \"white\", \"showbackground\": true, \"ticks\": \"\", \"zerolinecolor\": \"white\"}, \"yaxis\": {\"backgroundcolor\": \"#E5ECF6\", \"gridcolor\": \"white\", \"gridwidth\": 2, \"linecolor\": \"white\", \"showbackground\": true, \"ticks\": \"\", \"zerolinecolor\": \"white\"}, \"zaxis\": {\"backgroundcolor\": \"#E5ECF6\", \"gridcolor\": \"white\", \"gridwidth\": 2, \"linecolor\": \"white\", \"showbackground\": true, \"ticks\": \"\", \"zerolinecolor\": \"white\"}}, \"shapedefaults\": {\"line\": {\"color\": \"#2a3f5f\"}}, \"ternary\": {\"aaxis\": {\"gridcolor\": \"white\", \"linecolor\": \"white\", \"ticks\": \"\"}, \"baxis\": {\"gridcolor\": \"white\", \"linecolor\": \"white\", \"ticks\": \"\"}, \"bgcolor\": \"#E5ECF6\", \"caxis\": {\"gridcolor\": \"white\", \"linecolor\": \"white\", \"ticks\": \"\"}}, \"title\": {\"x\": 0.05}, \"xaxis\": {\"automargin\": true, \"gridcolor\": \"white\", \"linecolor\": \"white\", \"ticks\": \"\", \"title\": {\"standoff\": 15}, \"zerolinecolor\": \"white\", \"zerolinewidth\": 2}, \"yaxis\": {\"automargin\": true, \"gridcolor\": \"white\", \"linecolor\": \"white\", \"ticks\": \"\", \"title\": {\"standoff\": 15}, \"zerolinecolor\": \"white\", \"zerolinewidth\": 2}}}, \"title\": {\"text\": \"New Coronavirus Cases in India per day\"}, \"width\": 900, \"xaxis\": {\"anchor\": \"y\", \"domain\": [0.0, 1.0], \"title\": {\"text\": \"Date\"}}, \"yaxis\": {\"anchor\": \"x\", \"domain\": [0.0, 1.0], \"title\": {\"text\": \"New Cases\"}}},\n",
       "                        {\"responsive\": true}\n",
       "                    ).then(function(){\n",
       "                            \n",
       "var gd = document.getElementById('6313eb50-72ac-4aa9-98b1-7941786bb346');\n",
       "var x = new MutationObserver(function (mutations, observer) {{\n",
       "        var display = window.getComputedStyle(gd).display;\n",
       "        if (!display || display === 'none') {{\n",
       "            console.log([gd, 'removed!']);\n",
       "            Plotly.purge(gd);\n",
       "            observer.disconnect();\n",
       "        }}\n",
       "}});\n",
       "\n",
       "// Listen for the removal of the full notebook cells\n",
       "var notebookContainer = gd.closest('#notebook-container');\n",
       "if (notebookContainer) {{\n",
       "    x.observe(notebookContainer, {childList: true});\n",
       "}}\n",
       "\n",
       "// Listen for the clearing of the current output cell\n",
       "var outputEl = gd.closest('.output');\n",
       "if (outputEl) {{\n",
       "    x.observe(outputEl, {childList: true});\n",
       "}}\n",
       "\n",
       "                        })\n",
       "                };\n",
       "                });\n",
       "            </script>\n",
       "        </div>"
      ]
     },
     "metadata": {},
     "output_type": "display_data"
    }
   ],
   "source": [
    "# New COVID-19 cases reported daily in India\n",
    "\n",
    "import plotly.express as px\n",
    "fig = px.bar(dbd_India, x=\"Date\", y=\"New Cases\", barmode='group',\n",
    "             height=500,width=900)\n",
    "fig.update_layout(title_text='New Coronavirus Cases in India per day',plot_bgcolor='rgb(250, 242, 242)')\n",
    "\n",
    "fig.show()\n",
    "new_cases_per_day = map_html = json.dumps(fig, cls=plotly.utils.PlotlyJSONEncoder)"
   ]
  },
  {
   "cell_type": "code",
   "execution_count": null,
   "metadata": {},
   "outputs": [],
   "source": []
  },
  {
   "cell_type": "code",
   "execution_count": null,
   "metadata": {},
   "outputs": [],
   "source": []
  }
 ],
 "metadata": {
  "kernelspec": {
   "display_name": "Python 3",
   "language": "python",
   "name": "python3"
  },
  "language_info": {
   "codemirror_mode": {
    "name": "ipython",
    "version": 3
   },
   "file_extension": ".py",
   "mimetype": "text/x-python",
   "name": "python",
   "nbconvert_exporter": "python",
   "pygments_lexer": "ipython3",
   "version": "3.6.9"
  }
 },
 "nbformat": 4,
 "nbformat_minor": 4
}
